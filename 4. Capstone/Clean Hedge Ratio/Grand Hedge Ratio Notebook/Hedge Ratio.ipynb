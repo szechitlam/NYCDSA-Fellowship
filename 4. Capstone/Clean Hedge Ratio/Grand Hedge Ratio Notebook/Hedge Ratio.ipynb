{
 "cells": [
  {
   "cell_type": "code",
   "execution_count": 1,
   "metadata": {
    "ExecuteTime": {
     "end_time": "2019-08-21T03:34:49.573417Z",
     "start_time": "2019-08-21T03:34:49.113321Z"
    }
   },
   "outputs": [],
   "source": [
    "# Data manipulation\n",
    "import pandas as pd\n",
    "import numpy as np\n",
    "import re\n",
    "\n",
    "# Options for pandas\n",
    "pd.options.display.max_columns = 50\n",
    "pd.options.display.max_rows = 100\n",
    "pd.set_option('display.float_format', lambda x: '{:.3f}'.format(x))\n",
    "\n",
    "# Display all cell outputs\n",
    "from IPython.core.interactiveshell import InteractiveShell\n",
    "InteractiveShell.ast_node_interactivity = 'all'\n",
    "\n",
    "from IPython import get_ipython\n",
    "ipython = get_ipython()\n",
    "\n",
    "# autoreload extension\n",
    "if 'autoreload' not in ipython.extension_manager.loaded:\n",
    "    %load_ext autoreload\n",
    "\n",
    "%autoreload 2"
   ]
  },
  {
   "cell_type": "code",
   "execution_count": 2,
   "metadata": {
    "ExecuteTime": {
     "end_time": "2019-08-21T03:34:49.672000Z",
     "start_time": "2019-08-21T03:34:49.575724Z"
    }
   },
   "outputs": [],
   "source": [
    "# Import the csv\n",
    "\n",
    "hedge = pd.read_csv('hedge_volume_new.csv')\n",
    "production = pd.read_csv('production_filledna_clean.csv')"
   ]
  },
  {
   "cell_type": "code",
   "execution_count": 3,
   "metadata": {
    "ExecuteTime": {
     "end_time": "2019-08-21T03:34:49.699649Z",
     "start_time": "2019-08-21T03:34:49.674420Z"
    }
   },
   "outputs": [],
   "source": [
    "# Trim and rename the columns\n",
    "\n",
    "hedge = hedge[['tic', 'file_header', 'maturity_year', 'maturity_year_old', 'product', \n",
    "               'hedge_volume', 'unit_hedgevol', 'volume_ann_multiplier', 'instrument']]\n",
    "\n",
    "hedge.columns = ['ticker', 'file_header', 'maturity', 'detail_year',\n",
    "                 'product', 'volume', 'unit', 'multiplier', 'instrument']"
   ]
  },
  {
   "cell_type": "code",
   "execution_count": 4,
   "metadata": {
    "ExecuteTime": {
     "end_time": "2019-08-21T03:34:49.752102Z",
     "start_time": "2019-08-21T03:34:49.701526Z"
    }
   },
   "outputs": [],
   "source": [
    "# Extract filing year\n",
    "\n",
    "hedge['year'] = hedge['file_header'].apply(lambda x: int(re.findall('\\d{4}', x)[0]))"
   ]
  },
  {
   "cell_type": "code",
   "execution_count": 5,
   "metadata": {
    "ExecuteTime": {
     "end_time": "2019-08-21T03:34:49.783714Z",
     "start_time": "2019-08-21T03:34:49.754351Z"
    }
   },
   "outputs": [
    {
     "data": {
      "text/plain": [
       "array(['2006', '2007', '2008', '2009', '2010', '2011', '2012', '2013',\n",
       "       '2014', '2004', '2005', '2015', '2016', '2017', '2018', '2019',\n",
       "       '2003', '201)', '202)', '20Q1', '20er', '2020', '20ar'],\n",
       "      dtype=object)"
      ]
     },
     "execution_count": 5,
     "metadata": {},
     "output_type": "execute_result"
    }
   ],
   "source": [
    "# Observe unique values of maturity column, notice those bizzare ones, dtype = object instead of int\n",
    "\n",
    "hedge['maturity'].unique()"
   ]
  },
  {
   "cell_type": "code",
   "execution_count": 6,
   "metadata": {
    "ExecuteTime": {
     "end_time": "2019-08-21T03:34:49.813520Z",
     "start_time": "2019-08-21T03:34:49.785500Z"
    }
   },
   "outputs": [],
   "source": [
    "# Fix bizzare maturity and coerce maturity column as integers\n",
    "\n",
    "hedge.loc[hedge['maturity'].isin(['201)', '20Q1', '20ar', '202)', '20er']), 'maturity'] = \\\n",
    "[2012, 2012, 2012, 2013, 2014, 2010, 2010, 2010, 2010, 2015, 2008, 2009, 2014, 2014]\n",
    "\n",
    "hedge['maturity'] = hedge['maturity'].astype(int)"
   ]
  },
  {
   "cell_type": "code",
   "execution_count": 7,
   "metadata": {
    "ExecuteTime": {
     "end_time": "2019-08-21T03:34:49.842283Z",
     "start_time": "2019-08-21T03:34:49.816424Z"
    }
   },
   "outputs": [],
   "source": [
    "# Only keep rows where \n",
    "# 1) Maturity year = hedging year\n",
    "# 2) Instrument doesn't contain 'basis' or 'call'\n",
    "\n",
    "hedge = hedge.loc[(hedge['maturity'] == hedge['year']) &\n",
    "                  (~hedge['instrument'].str.contains('call|basis', na=False))].reset_index(drop=True)"
   ]
  },
  {
   "cell_type": "code",
   "execution_count": 8,
   "metadata": {
    "ExecuteTime": {
     "end_time": "2019-08-21T03:34:49.869592Z",
     "start_time": "2019-08-21T03:34:49.844250Z"
    }
   },
   "outputs": [
    {
     "data": {
      "text/plain": [
       "array(['2004', '2005', '2006', '2007', '2008', '2009', '2010', '2011',\n",
       "       '2013', '2014', '2015', '2016', '2017', 'q2|2017', 'q3 q4|2017',\n",
       "       'first quarter 2003', 'second quarter 2003', 'third quarter 2003',\n",
       "       'fourth quarter 2003', 'first quarter 2004', 'fourth quarter 2004',\n",
       "       'second quarter 2004', 'third quarter 2004', 'first quarter 2005',\n",
       "       'second quarter 2005', 'march 2005 - december 2005',\n",
       "       'third quarter 2005', 'fourth quarter 2005',\n",
       "       'april 2005 - december 2005', 'first quarter of 2006',\n",
       "       'second quarter 2006', 'third quarter 2006', 'fourth quarter 2006',\n",
       "       'april 2007 december 2007', 'fiscal 2007', 'calendar 2008',\n",
       "       'january february 2008', 'march december 2008', 'calendar 2009',\n",
       "       'calendar 2010', 'calendar 2011', 'calendar 2012(1)',\n",
       "       'april 2012 - december 2012(1)', 'january 2012 - june 2012',\n",
       "       'july 2012 - december 2012', 'calendar 2013', 'calendar 2014',\n",
       "       'monthly calendar 2014', '1q 2009', '2q 2009', '3q 2009',\n",
       "       '4q 2009', '1q 2010', '2q 2010', '3q 2010', '4q 2010',\n",
       "       'january - june 2010', 'january - december 2010', '2010q1',\n",
       "       'first quarter 2017', 'second quarter 2017', 'third quarter 2017',\n",
       "       'fourth quarter 2017', '2012', '2015 first quarter',\n",
       "       'march through december of 2007', 'jan 08 - dec 08',\n",
       "       'feb 08 - dec 08', 'jan 09 - dec 09', 'jan 10 - dec 10',\n",
       "       'jan 11 - dec 11', 'feb 11 - dec 11', 'jan 12 - dec 12',\n",
       "       'mar 12 - dec 12', 'jul 12 - sep 12', 'jan 13 - dec 13',\n",
       "       'jan 14 - dec 14', 'jan 14 - jun 14', 'jan 15 - dec 15',\n",
       "       'apr 15 - jun 15', 'jan 15 - mar 15', 'jul 15 - sep 15',\n",
       "       'jan 16 - dec 16', 'feb 16 - dec 16', 'jan 16 - jun 16',\n",
       "       'jul 16 - dec 16', 'jan 17 - mar 17', 'apr 17 - oct 17',\n",
       "       'apr 17 - dec 17', 'nov 17 - dec 17', 'jan 17 - oct 17',\n",
       "       'jan 17 - dec 17'], dtype=object)"
      ]
     },
     "execution_count": 8,
     "metadata": {},
     "output_type": "execute_result"
    }
   ],
   "source": [
    "# Get the unique detail_year information for daily data\n",
    "\n",
    "hedge.loc[hedge['multiplier'] == 365]['detail_year'].unique()"
   ]
  },
  {
   "cell_type": "code",
   "execution_count": 9,
   "metadata": {
    "ExecuteTime": {
     "end_time": "2019-08-21T03:34:49.899503Z",
     "start_time": "2019-08-21T03:34:49.871727Z"
    }
   },
   "outputs": [],
   "source": [
    "def converter(x):\n",
    "    # Yearly production\n",
    "    if x in ['2004', '2005', '2006', '2007', '2008', '2009', '2010', '2011', '2012',\n",
    "             '2013', '2014', '2015', '2016', '2017', 'fiscal 2007', 'calendar 2008'\n",
    "             'calendar 2009', 'calendar 2010', 'calendar 2011', 'calendar 2012(1)',\n",
    "             'calendar 2013', 'calendar 2014', 'january - december 2010', 'jan 08 - dec 08',\n",
    "             'jan 09 - dec 09', 'jan 10 - dec 10', 'jan 11 - dec 11', 'jan 12 - dec 12',\n",
    "             'jan 13 - dec 13', 'jan 14 - dec 14', 'jan 15 - dec 15', 'jan 16 - dec 16',\n",
    "             'jan 17 - dec 17']:\n",
    "        return 365\n",
    "    \n",
    "    # 2 months\n",
    "    elif x in ['january february 2008', 'nov 17 - dec 17']:\n",
    "        return 365/12*2\n",
    "    \n",
    "    # 10 months\n",
    "    elif x in ['march december 2008', 'march through december of 2007', 'mar 12 - dec 12',\n",
    "               'jan 17 - oct 17']:\n",
    "        return 365/12*10\n",
    "    \n",
    "    # 9 months\n",
    "    elif x in ['april 2012 - december 2012(1)', 'apr 17 - dec 17']:\n",
    "        return 365/12*9\n",
    "    \n",
    "    # 6 months\n",
    "    elif x in ['january 2012 - june 2012', 'july 2012 - december 2012', 'january - june 2010',\n",
    "               'jan 14 - jun 14', 'jan 16 - jun 16']:\n",
    "        return 365/12*6\n",
    "    \n",
    "    # 11 months\n",
    "    elif x in ['feb 08 - dec 08', 'feb 11 - dec 11', 'feb 16 - dec 16']:\n",
    "        return 365/12*11\n",
    "    \n",
    "    # 7 months\n",
    "    elif x in ['apr 17 - oct 17']:\n",
    "        return 365/12*7\n",
    "    \n",
    "    # Quarterly production\n",
    "    else:\n",
    "        return 365/12*4"
   ]
  },
  {
   "cell_type": "code",
   "execution_count": 10,
   "metadata": {
    "ExecuteTime": {
     "end_time": "2019-08-21T03:34:49.928433Z",
     "start_time": "2019-08-21T03:34:49.901158Z"
    }
   },
   "outputs": [],
   "source": [
    "# Apply the transformation\n",
    "\n",
    "detail_year = hedge.loc[hedge['multiplier'] == 365]['detail_year']\n",
    "\n",
    "hedge.loc[hedge['multiplier'] == 365, 'multiplier'] = detail_year.apply(converter)"
   ]
  },
  {
   "cell_type": "code",
   "execution_count": 11,
   "metadata": {
    "ExecuteTime": {
     "end_time": "2019-08-21T03:34:49.961604Z",
     "start_time": "2019-08-21T03:34:49.930241Z"
    }
   },
   "outputs": [],
   "source": [
    "# Convert all volume data to annual volume\n",
    "\n",
    "hedge['volume'] = hedge['volume'] * hedge['multiplier']\n",
    "\n",
    "production[['OIL_PRODUCTION', 'NGL_PRODUCTION', 'GAS_PRODUCTION']] = \\\n",
    "production[['OIL_PRODUCTION', 'NGL_PRODUCTION', 'GAS_PRODUCTION']] * 365"
   ]
  },
  {
   "cell_type": "code",
   "execution_count": 12,
   "metadata": {
    "ExecuteTime": {
     "end_time": "2019-08-21T03:34:49.985596Z",
     "start_time": "2019-08-21T03:34:49.963221Z"
    }
   },
   "outputs": [],
   "source": [
    "# Drop unnecessary columns\n",
    "\n",
    "hedge.drop(['file_header', 'maturity', 'unit', 'instrument', 'multiplier', 'detail_year'], axis=1, inplace=True)"
   ]
  },
  {
   "cell_type": "code",
   "execution_count": 13,
   "metadata": {
    "ExecuteTime": {
     "end_time": "2019-08-21T03:34:50.010640Z",
     "start_time": "2019-08-21T03:34:49.987300Z"
    }
   },
   "outputs": [],
   "source": [
    "# Convert product names into more informative ones\n",
    "\n",
    "product_convertion = {\n",
    "    'gas': 'Natural Gas',\n",
    "    'oil': 'Oil',\n",
    "    'ngl': 'Natural Gas Liquid'\n",
    "}\n",
    "\n",
    "hedge['product'] = hedge['product'].map(product_convertion)"
   ]
  },
  {
   "cell_type": "code",
   "execution_count": 14,
   "metadata": {
    "ExecuteTime": {
     "end_time": "2019-08-21T03:34:50.039268Z",
     "start_time": "2019-08-21T03:34:50.012507Z"
    }
   },
   "outputs": [],
   "source": [
    "# Sum up the volumes for the same ticker, year and product\n",
    "\n",
    "hedge = hedge.groupby(['ticker', 'year', 'product']).agg({'volume':'sum'}).reset_index()"
   ]
  },
  {
   "cell_type": "code",
   "execution_count": 15,
   "metadata": {
    "ExecuteTime": {
     "end_time": "2019-08-21T03:34:50.067867Z",
     "start_time": "2019-08-21T03:34:50.041516Z"
    }
   },
   "outputs": [],
   "source": [
    "# Merge the dataframes based on year and ticker\n",
    "\n",
    "hedge_merge = pd.merge(hedge, production, on=['year', 'ticker'])"
   ]
  },
  {
   "cell_type": "code",
   "execution_count": 16,
   "metadata": {
    "ExecuteTime": {
     "end_time": "2019-08-21T03:34:50.096070Z",
     "start_time": "2019-08-21T03:34:50.069640Z"
    }
   },
   "outputs": [],
   "source": [
    "# Mutate a column according to production type, and calculate the hedge ratio\n",
    "\n",
    "hedge_merge['production'] = np.where(hedge_merge['product'] == 'Natural Gas', hedge_merge['GAS_PRODUCTION'], \n",
    "         np.where(hedge_merge['product'] == 'Oil', hedge_merge['OIL_PRODUCTION'], hedge_merge['NGL_PRODUCTION']))\n",
    "\n",
    "hedge_merge['hedge_ratio'] = hedge_merge['volume'] / hedge_merge['production']"
   ]
  },
  {
   "cell_type": "code",
   "execution_count": 17,
   "metadata": {
    "ExecuteTime": {
     "end_time": "2019-08-21T03:34:50.134878Z",
     "start_time": "2019-08-21T03:34:50.098630Z"
    }
   },
   "outputs": [
    {
     "data": {
      "text/html": [
       "<div>\n",
       "<style scoped>\n",
       "    .dataframe tbody tr th:only-of-type {\n",
       "        vertical-align: middle;\n",
       "    }\n",
       "\n",
       "    .dataframe tbody tr th {\n",
       "        vertical-align: top;\n",
       "    }\n",
       "\n",
       "    .dataframe thead th {\n",
       "        text-align: right;\n",
       "    }\n",
       "</style>\n",
       "<table border=\"1\" class=\"dataframe\">\n",
       "  <thead>\n",
       "    <tr style=\"text-align: right;\">\n",
       "      <th></th>\n",
       "      <th>ticker</th>\n",
       "      <th>year</th>\n",
       "      <th>product</th>\n",
       "      <th>volume</th>\n",
       "      <th>production</th>\n",
       "      <th>hedge_ratio</th>\n",
       "    </tr>\n",
       "  </thead>\n",
       "  <tbody>\n",
       "    <tr>\n",
       "      <th>145</th>\n",
       "      <td>UNT</td>\n",
       "      <td>2014</td>\n",
       "      <td>Oil</td>\n",
       "      <td>2646.250</td>\n",
       "      <td>3843.450</td>\n",
       "      <td>0.689</td>\n",
       "    </tr>\n",
       "    <tr>\n",
       "      <th>1</th>\n",
       "      <td>APA</td>\n",
       "      <td>2006</td>\n",
       "      <td>Oil</td>\n",
       "      <td>6064.000</td>\n",
       "      <td>81970.605</td>\n",
       "      <td>0.074</td>\n",
       "    </tr>\n",
       "    <tr>\n",
       "      <th>2</th>\n",
       "      <td>APA</td>\n",
       "      <td>2007</td>\n",
       "      <td>Natural Gas</td>\n",
       "      <td>79841.889</td>\n",
       "      <td>655667.020</td>\n",
       "      <td>0.122</td>\n",
       "    </tr>\n",
       "    <tr>\n",
       "      <th>109</th>\n",
       "      <td>RRC</td>\n",
       "      <td>2017</td>\n",
       "      <td>Oil</td>\n",
       "      <td>3117.830</td>\n",
       "      <td>4786.975</td>\n",
       "      <td>0.651</td>\n",
       "    </tr>\n",
       "    <tr>\n",
       "      <th>53</th>\n",
       "      <td>CLR</td>\n",
       "      <td>2014</td>\n",
       "      <td>Natural Gas</td>\n",
       "      <td>101105.211</td>\n",
       "      <td>114295.005</td>\n",
       "      <td>0.885</td>\n",
       "    </tr>\n",
       "    <tr>\n",
       "      <th>105</th>\n",
       "      <td>RRC</td>\n",
       "      <td>2016</td>\n",
       "      <td>Natural Gas Liquid</td>\n",
       "      <td>3923.385</td>\n",
       "      <td>27749.490</td>\n",
       "      <td>0.141</td>\n",
       "    </tr>\n",
       "    <tr>\n",
       "      <th>38</th>\n",
       "      <td>APC</td>\n",
       "      <td>2015</td>\n",
       "      <td>Natural Gas</td>\n",
       "      <td>283614.855</td>\n",
       "      <td>851910.000</td>\n",
       "      <td>0.333</td>\n",
       "    </tr>\n",
       "    <tr>\n",
       "      <th>94</th>\n",
       "      <td>RRC</td>\n",
       "      <td>2012</td>\n",
       "      <td>Oil</td>\n",
       "      <td>730.000</td>\n",
       "      <td>2843.350</td>\n",
       "      <td>0.257</td>\n",
       "    </tr>\n",
       "    <tr>\n",
       "      <th>13</th>\n",
       "      <td>APA</td>\n",
       "      <td>2012</td>\n",
       "      <td>Oil</td>\n",
       "      <td>16738.000</td>\n",
       "      <td>128489.490</td>\n",
       "      <td>0.130</td>\n",
       "    </tr>\n",
       "    <tr>\n",
       "      <th>92</th>\n",
       "      <td>RRC</td>\n",
       "      <td>2012</td>\n",
       "      <td>Natural Gas</td>\n",
       "      <td>147223.593</td>\n",
       "      <td>215962.835</td>\n",
       "      <td>0.682</td>\n",
       "    </tr>\n",
       "    <tr>\n",
       "      <th>124</th>\n",
       "      <td>SWN</td>\n",
       "      <td>2013</td>\n",
       "      <td>Natural Gas</td>\n",
       "      <td>185600.000</td>\n",
       "      <td>655905.000</td>\n",
       "      <td>0.283</td>\n",
       "    </tr>\n",
       "    <tr>\n",
       "      <th>134</th>\n",
       "      <td>UNT</td>\n",
       "      <td>2010</td>\n",
       "      <td>Natural Gas</td>\n",
       "      <td>29946.911</td>\n",
       "      <td>40756.010</td>\n",
       "      <td>0.735</td>\n",
       "    </tr>\n",
       "    <tr>\n",
       "      <th>58</th>\n",
       "      <td>ECA</td>\n",
       "      <td>2017</td>\n",
       "      <td>Natural Gas</td>\n",
       "      <td>314630.000</td>\n",
       "      <td>402960.000</td>\n",
       "      <td>0.781</td>\n",
       "    </tr>\n",
       "    <tr>\n",
       "      <th>49</th>\n",
       "      <td>CLR</td>\n",
       "      <td>2012</td>\n",
       "      <td>Natural Gas</td>\n",
       "      <td>8542.471</td>\n",
       "      <td>63700.165</td>\n",
       "      <td>0.134</td>\n",
       "    </tr>\n",
       "    <tr>\n",
       "      <th>54</th>\n",
       "      <td>CLR</td>\n",
       "      <td>2014</td>\n",
       "      <td>Oil</td>\n",
       "      <td>30069.251</td>\n",
       "      <td>44529.635</td>\n",
       "      <td>0.675</td>\n",
       "    </tr>\n",
       "    <tr>\n",
       "      <th>142</th>\n",
       "      <td>UNT</td>\n",
       "      <td>2013</td>\n",
       "      <td>Natural Gas</td>\n",
       "      <td>35231.660</td>\n",
       "      <td>56753.850</td>\n",
       "      <td>0.621</td>\n",
       "    </tr>\n",
       "    <tr>\n",
       "      <th>51</th>\n",
       "      <td>CLR</td>\n",
       "      <td>2013</td>\n",
       "      <td>Natural Gas</td>\n",
       "      <td>30511.583</td>\n",
       "      <td>87729.575</td>\n",
       "      <td>0.348</td>\n",
       "    </tr>\n",
       "    <tr>\n",
       "      <th>131</th>\n",
       "      <td>UNT</td>\n",
       "      <td>2008</td>\n",
       "      <td>Oil</td>\n",
       "      <td>912.500</td>\n",
       "      <td>1260.998</td>\n",
       "      <td>0.724</td>\n",
       "    </tr>\n",
       "    <tr>\n",
       "      <th>151</th>\n",
       "      <td>UNT</td>\n",
       "      <td>2017</td>\n",
       "      <td>Oil</td>\n",
       "      <td>1368.750</td>\n",
       "      <td>2715.235</td>\n",
       "      <td>0.504</td>\n",
       "    </tr>\n",
       "    <tr>\n",
       "      <th>21</th>\n",
       "      <td>APC</td>\n",
       "      <td>2005</td>\n",
       "      <td>Oil</td>\n",
       "      <td>16425.000</td>\n",
       "      <td>56575.000</td>\n",
       "      <td>0.290</td>\n",
       "    </tr>\n",
       "    <tr>\n",
       "      <th>108</th>\n",
       "      <td>RRC</td>\n",
       "      <td>2017</td>\n",
       "      <td>Natural Gas Liquid</td>\n",
       "      <td>9803.901</td>\n",
       "      <td>35709.410</td>\n",
       "      <td>0.275</td>\n",
       "    </tr>\n",
       "    <tr>\n",
       "      <th>8</th>\n",
       "      <td>APA</td>\n",
       "      <td>2010</td>\n",
       "      <td>Natural Gas</td>\n",
       "      <td>158859.072</td>\n",
       "      <td>689360.900</td>\n",
       "      <td>0.230</td>\n",
       "    </tr>\n",
       "    <tr>\n",
       "      <th>129</th>\n",
       "      <td>UNT</td>\n",
       "      <td>2008</td>\n",
       "      <td>Natural Gas</td>\n",
       "      <td>20190.798</td>\n",
       "      <td>47472.999</td>\n",
       "      <td>0.425</td>\n",
       "    </tr>\n",
       "    <tr>\n",
       "      <th>83</th>\n",
       "      <td>RRC</td>\n",
       "      <td>2007</td>\n",
       "      <td>Natural Gas</td>\n",
       "      <td>68643.957</td>\n",
       "      <td>89594.725</td>\n",
       "      <td>0.766</td>\n",
       "    </tr>\n",
       "    <tr>\n",
       "      <th>72</th>\n",
       "      <td>PDCE</td>\n",
       "      <td>2015</td>\n",
       "      <td>Oil</td>\n",
       "      <td>5200.000</td>\n",
       "      <td>6982.450</td>\n",
       "      <td>0.745</td>\n",
       "    </tr>\n",
       "  </tbody>\n",
       "</table>\n",
       "</div>"
      ],
      "text/plain": [
       "    ticker  year             product     volume  production  hedge_ratio\n",
       "145    UNT  2014                 Oil   2646.250    3843.450        0.689\n",
       "1      APA  2006                 Oil   6064.000   81970.605        0.074\n",
       "2      APA  2007         Natural Gas  79841.889  655667.020        0.122\n",
       "109    RRC  2017                 Oil   3117.830    4786.975        0.651\n",
       "53     CLR  2014         Natural Gas 101105.211  114295.005        0.885\n",
       "105    RRC  2016  Natural Gas Liquid   3923.385   27749.490        0.141\n",
       "38     APC  2015         Natural Gas 283614.855  851910.000        0.333\n",
       "94     RRC  2012                 Oil    730.000    2843.350        0.257\n",
       "13     APA  2012                 Oil  16738.000  128489.490        0.130\n",
       "92     RRC  2012         Natural Gas 147223.593  215962.835        0.682\n",
       "124    SWN  2013         Natural Gas 185600.000  655905.000        0.283\n",
       "134    UNT  2010         Natural Gas  29946.911   40756.010        0.735\n",
       "58     ECA  2017         Natural Gas 314630.000  402960.000        0.781\n",
       "49     CLR  2012         Natural Gas   8542.471   63700.165        0.134\n",
       "54     CLR  2014                 Oil  30069.251   44529.635        0.675\n",
       "142    UNT  2013         Natural Gas  35231.660   56753.850        0.621\n",
       "51     CLR  2013         Natural Gas  30511.583   87729.575        0.348\n",
       "131    UNT  2008                 Oil    912.500    1260.998        0.724\n",
       "151    UNT  2017                 Oil   1368.750    2715.235        0.504\n",
       "21     APC  2005                 Oil  16425.000   56575.000        0.290\n",
       "108    RRC  2017  Natural Gas Liquid   9803.901   35709.410        0.275\n",
       "8      APA  2010         Natural Gas 158859.072  689360.900        0.230\n",
       "129    UNT  2008         Natural Gas  20190.798   47472.999        0.425\n",
       "83     RRC  2007         Natural Gas  68643.957   89594.725        0.766\n",
       "72    PDCE  2015                 Oil   5200.000    6982.450        0.745"
      ]
     },
     "execution_count": 17,
     "metadata": {},
     "output_type": "execute_result"
    }
   ],
   "source": [
    "# Trim out unnecessary columns\n",
    "\n",
    "hedge_merge = hedge_merge[['ticker', 'year', 'product', 'volume', 'production', 'hedge_ratio']]\n",
    "\n",
    "hedge_merge.sample(25)"
   ]
  },
  {
   "cell_type": "code",
   "execution_count": 18,
   "metadata": {
    "ExecuteTime": {
     "end_time": "2019-08-21T03:34:50.166770Z",
     "start_time": "2019-08-21T03:34:50.136791Z"
    }
   },
   "outputs": [
    {
     "data": {
      "text/plain": [
       "4"
      ]
     },
     "execution_count": 18,
     "metadata": {},
     "output_type": "execute_result"
    },
    {
     "data": {
      "text/html": [
       "<div>\n",
       "<style scoped>\n",
       "    .dataframe tbody tr th:only-of-type {\n",
       "        vertical-align: middle;\n",
       "    }\n",
       "\n",
       "    .dataframe tbody tr th {\n",
       "        vertical-align: top;\n",
       "    }\n",
       "\n",
       "    .dataframe thead th {\n",
       "        text-align: right;\n",
       "    }\n",
       "</style>\n",
       "<table border=\"1\" class=\"dataframe\">\n",
       "  <thead>\n",
       "    <tr style=\"text-align: right;\">\n",
       "      <th></th>\n",
       "      <th>ticker</th>\n",
       "      <th>year</th>\n",
       "      <th>product</th>\n",
       "      <th>volume</th>\n",
       "      <th>production</th>\n",
       "      <th>hedge_ratio</th>\n",
       "    </tr>\n",
       "  </thead>\n",
       "  <tbody>\n",
       "    <tr>\n",
       "      <th>67</th>\n",
       "      <td>PDCE</td>\n",
       "      <td>2013</td>\n",
       "      <td>Natural Gas</td>\n",
       "      <td>28489.287</td>\n",
       "      <td>15431.470</td>\n",
       "      <td>1.846</td>\n",
       "    </tr>\n",
       "    <tr>\n",
       "      <th>69</th>\n",
       "      <td>PDCE</td>\n",
       "      <td>2014</td>\n",
       "      <td>Natural Gas</td>\n",
       "      <td>19455.115</td>\n",
       "      <td>19298.000</td>\n",
       "      <td>1.008</td>\n",
       "    </tr>\n",
       "    <tr>\n",
       "      <th>86</th>\n",
       "      <td>RRC</td>\n",
       "      <td>2008</td>\n",
       "      <td>Oil</td>\n",
       "      <td>3285.000</td>\n",
       "      <td>3076.220</td>\n",
       "      <td>1.068</td>\n",
       "    </tr>\n",
       "    <tr>\n",
       "      <th>88</th>\n",
       "      <td>RRC</td>\n",
       "      <td>2009</td>\n",
       "      <td>Oil</td>\n",
       "      <td>2920.000</td>\n",
       "      <td>2556.825</td>\n",
       "      <td>1.142</td>\n",
       "    </tr>\n",
       "  </tbody>\n",
       "</table>\n",
       "</div>"
      ],
      "text/plain": [
       "   ticker  year      product    volume  production  hedge_ratio\n",
       "67   PDCE  2013  Natural Gas 28489.287   15431.470        1.846\n",
       "69   PDCE  2014  Natural Gas 19455.115   19298.000        1.008\n",
       "86    RRC  2008          Oil  3285.000    3076.220        1.068\n",
       "88    RRC  2009          Oil  2920.000    2556.825        1.142"
      ]
     },
     "execution_count": 18,
     "metadata": {},
     "output_type": "execute_result"
    }
   ],
   "source": [
    "# Affirm that no hedge ratio > 1\n",
    "\n",
    "sum(hedge_merge['hedge_ratio'] > 1)\n",
    "hedge_merge[hedge_merge['hedge_ratio'] > 1]"
   ]
  },
  {
   "cell_type": "code",
   "execution_count": 19,
   "metadata": {
    "ExecuteTime": {
     "end_time": "2019-08-21T03:34:50.193640Z",
     "start_time": "2019-08-21T03:34:50.168967Z"
    }
   },
   "outputs": [],
   "source": [
    "# Output the csv\n",
    "\n",
    "hedge_merge.to_csv('hedge_ratio.csv', index=False)"
   ]
  }
 ],
 "metadata": {
  "hide_input": false,
  "kernelspec": {
   "display_name": "Python 3",
   "language": "python",
   "name": "python3"
  },
  "language_info": {
   "codemirror_mode": {
    "name": "ipython",
    "version": 3
   },
   "file_extension": ".py",
   "mimetype": "text/x-python",
   "name": "python",
   "nbconvert_exporter": "python",
   "pygments_lexer": "ipython3",
   "version": "3.7.3"
  },
  "toc": {
   "base_numbering": 1,
   "nav_menu": {},
   "number_sections": true,
   "sideBar": true,
   "skip_h1_title": false,
   "title_cell": "Table of Contents",
   "title_sidebar": "Contents",
   "toc_cell": false,
   "toc_position": {},
   "toc_section_display": true,
   "toc_window_display": false
  }
 },
 "nbformat": 4,
 "nbformat_minor": 2
}
