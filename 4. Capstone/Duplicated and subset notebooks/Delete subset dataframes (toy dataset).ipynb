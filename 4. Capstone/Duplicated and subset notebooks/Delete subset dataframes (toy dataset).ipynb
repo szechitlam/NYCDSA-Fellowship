{
 "cells": [
  {
   "cell_type": "code",
   "execution_count": 1,
   "metadata": {
    "ExecuteTime": {
     "end_time": "2019-08-11T23:50:05.765939Z",
     "start_time": "2019-08-11T23:50:05.325814Z"
    }
   },
   "outputs": [],
   "source": [
    "import pandas as pd\n",
    "import numpy as np\n",
    "from IPython.core.interactiveshell import InteractiveShell\n",
    "InteractiveShell.ast_node_interactivity = 'all'"
   ]
  },
  {
   "cell_type": "code",
   "execution_count": 2,
   "metadata": {
    "ExecuteTime": {
     "end_time": "2019-08-11T23:50:05.779534Z",
     "start_time": "2019-08-11T23:50:05.767966Z"
    }
   },
   "outputs": [],
   "source": [
    "df_keep = pd.DataFrame({'price1': [10, 20, 30], 'price1_name': ['price range', 'price range', 'price range'],\n",
    "                        'price2': [40, 50, 60], 'price2_name': ['weighted avg price', 'weighted avg price', 'weighted avg price']})\n",
    "\n",
    "df_keep2 = pd.DataFrame({'price1': [10, 20, 50000], 'price1_name': ['price range', 'price range', 'price range'],\n",
    "                        'price2': [30, 40, 50], 'price2_name': ['weighted avg price', 'weighted avg price', 'weighted avg price']})\n",
    "\n",
    "df_missing_col = pd.DataFrame({'price1': [10, 20, 50000], 'price1_name': ['price range', 'price range', 'price range'],\n",
    "                               'price2': [30, 40, 50], 'price2_name': ['', '', '']})\n",
    "\n",
    "df_2rows = pd.DataFrame({'price1': [20, 30], 'price1_name': ['price range', 'price range'],\n",
    "                         'price2': [50, 60], 'price2_name': ['weighted avg price', 'weighted avg price']})"
   ]
  },
  {
   "cell_type": "code",
   "execution_count": 3,
   "metadata": {
    "ExecuteTime": {
     "end_time": "2019-08-11T23:50:05.789068Z",
     "start_time": "2019-08-11T23:50:05.782373Z"
    }
   },
   "outputs": [],
   "source": [
    "df_keep3 = pd.DataFrame({'price1': [1, 2, 3], 'price1_name': ['haha', 'haha', 'hahaha']})\n",
    "\n",
    "df_throw = pd.DataFrame({'price1': [1, 2], 'price1_name': ['haha', 'haha']})"
   ]
  },
  {
   "cell_type": "code",
   "execution_count": 4,
   "metadata": {
    "ExecuteTime": {
     "end_time": "2019-08-11T23:50:05.840455Z",
     "start_time": "2019-08-11T23:50:05.791360Z"
    }
   },
   "outputs": [
    {
     "data": {
      "text/html": [
       "<div>\n",
       "<style scoped>\n",
       "    .dataframe tbody tr th:only-of-type {\n",
       "        vertical-align: middle;\n",
       "    }\n",
       "\n",
       "    .dataframe tbody tr th {\n",
       "        vertical-align: top;\n",
       "    }\n",
       "\n",
       "    .dataframe thead th {\n",
       "        text-align: right;\n",
       "    }\n",
       "</style>\n",
       "<table border=\"1\" class=\"dataframe\">\n",
       "  <thead>\n",
       "    <tr style=\"text-align: right;\">\n",
       "      <th></th>\n",
       "      <th>price1</th>\n",
       "      <th>price1_name</th>\n",
       "      <th>price2</th>\n",
       "      <th>price2_name</th>\n",
       "    </tr>\n",
       "  </thead>\n",
       "  <tbody>\n",
       "    <tr>\n",
       "      <th>0</th>\n",
       "      <td>10</td>\n",
       "      <td>price range</td>\n",
       "      <td>40</td>\n",
       "      <td>weighted avg price</td>\n",
       "    </tr>\n",
       "    <tr>\n",
       "      <th>1</th>\n",
       "      <td>20</td>\n",
       "      <td>price range</td>\n",
       "      <td>50</td>\n",
       "      <td>weighted avg price</td>\n",
       "    </tr>\n",
       "    <tr>\n",
       "      <th>2</th>\n",
       "      <td>30</td>\n",
       "      <td>price range</td>\n",
       "      <td>60</td>\n",
       "      <td>weighted avg price</td>\n",
       "    </tr>\n",
       "  </tbody>\n",
       "</table>\n",
       "</div>"
      ],
      "text/plain": [
       "   price1  price1_name  price2         price2_name\n",
       "0      10  price range      40  weighted avg price\n",
       "1      20  price range      50  weighted avg price\n",
       "2      30  price range      60  weighted avg price"
      ]
     },
     "execution_count": 4,
     "metadata": {},
     "output_type": "execute_result"
    },
    {
     "data": {
      "text/html": [
       "<div>\n",
       "<style scoped>\n",
       "    .dataframe tbody tr th:only-of-type {\n",
       "        vertical-align: middle;\n",
       "    }\n",
       "\n",
       "    .dataframe tbody tr th {\n",
       "        vertical-align: top;\n",
       "    }\n",
       "\n",
       "    .dataframe thead th {\n",
       "        text-align: right;\n",
       "    }\n",
       "</style>\n",
       "<table border=\"1\" class=\"dataframe\">\n",
       "  <thead>\n",
       "    <tr style=\"text-align: right;\">\n",
       "      <th></th>\n",
       "      <th>price1</th>\n",
       "      <th>price1_name</th>\n",
       "      <th>price2</th>\n",
       "      <th>price2_name</th>\n",
       "    </tr>\n",
       "  </thead>\n",
       "  <tbody>\n",
       "    <tr>\n",
       "      <th>0</th>\n",
       "      <td>20</td>\n",
       "      <td>price range</td>\n",
       "      <td>50</td>\n",
       "      <td>weighted avg price</td>\n",
       "    </tr>\n",
       "    <tr>\n",
       "      <th>1</th>\n",
       "      <td>30</td>\n",
       "      <td>price range</td>\n",
       "      <td>60</td>\n",
       "      <td>weighted avg price</td>\n",
       "    </tr>\n",
       "  </tbody>\n",
       "</table>\n",
       "</div>"
      ],
      "text/plain": [
       "   price1  price1_name  price2         price2_name\n",
       "0      20  price range      50  weighted avg price\n",
       "1      30  price range      60  weighted avg price"
      ]
     },
     "execution_count": 4,
     "metadata": {},
     "output_type": "execute_result"
    },
    {
     "data": {
      "text/html": [
       "<div>\n",
       "<style scoped>\n",
       "    .dataframe tbody tr th:only-of-type {\n",
       "        vertical-align: middle;\n",
       "    }\n",
       "\n",
       "    .dataframe tbody tr th {\n",
       "        vertical-align: top;\n",
       "    }\n",
       "\n",
       "    .dataframe thead th {\n",
       "        text-align: right;\n",
       "    }\n",
       "</style>\n",
       "<table border=\"1\" class=\"dataframe\">\n",
       "  <thead>\n",
       "    <tr style=\"text-align: right;\">\n",
       "      <th></th>\n",
       "      <th>price1</th>\n",
       "      <th>price1_name</th>\n",
       "      <th>price2</th>\n",
       "      <th>price2_name</th>\n",
       "    </tr>\n",
       "  </thead>\n",
       "  <tbody>\n",
       "    <tr>\n",
       "      <th>0</th>\n",
       "      <td>10</td>\n",
       "      <td>price range</td>\n",
       "      <td>30</td>\n",
       "      <td>weighted avg price</td>\n",
       "    </tr>\n",
       "    <tr>\n",
       "      <th>1</th>\n",
       "      <td>20</td>\n",
       "      <td>price range</td>\n",
       "      <td>40</td>\n",
       "      <td>weighted avg price</td>\n",
       "    </tr>\n",
       "    <tr>\n",
       "      <th>2</th>\n",
       "      <td>50000</td>\n",
       "      <td>price range</td>\n",
       "      <td>50</td>\n",
       "      <td>weighted avg price</td>\n",
       "    </tr>\n",
       "  </tbody>\n",
       "</table>\n",
       "</div>"
      ],
      "text/plain": [
       "   price1  price1_name  price2         price2_name\n",
       "0      10  price range      30  weighted avg price\n",
       "1      20  price range      40  weighted avg price\n",
       "2   50000  price range      50  weighted avg price"
      ]
     },
     "execution_count": 4,
     "metadata": {},
     "output_type": "execute_result"
    },
    {
     "data": {
      "text/html": [
       "<div>\n",
       "<style scoped>\n",
       "    .dataframe tbody tr th:only-of-type {\n",
       "        vertical-align: middle;\n",
       "    }\n",
       "\n",
       "    .dataframe tbody tr th {\n",
       "        vertical-align: top;\n",
       "    }\n",
       "\n",
       "    .dataframe thead th {\n",
       "        text-align: right;\n",
       "    }\n",
       "</style>\n",
       "<table border=\"1\" class=\"dataframe\">\n",
       "  <thead>\n",
       "    <tr style=\"text-align: right;\">\n",
       "      <th></th>\n",
       "      <th>price1</th>\n",
       "      <th>price1_name</th>\n",
       "      <th>price2</th>\n",
       "      <th>price2_name</th>\n",
       "    </tr>\n",
       "  </thead>\n",
       "  <tbody>\n",
       "    <tr>\n",
       "      <th>0</th>\n",
       "      <td>10</td>\n",
       "      <td>price range</td>\n",
       "      <td>30</td>\n",
       "      <td></td>\n",
       "    </tr>\n",
       "    <tr>\n",
       "      <th>1</th>\n",
       "      <td>20</td>\n",
       "      <td>price range</td>\n",
       "      <td>40</td>\n",
       "      <td></td>\n",
       "    </tr>\n",
       "    <tr>\n",
       "      <th>2</th>\n",
       "      <td>50000</td>\n",
       "      <td>price range</td>\n",
       "      <td>50</td>\n",
       "      <td></td>\n",
       "    </tr>\n",
       "  </tbody>\n",
       "</table>\n",
       "</div>"
      ],
      "text/plain": [
       "   price1  price1_name  price2 price2_name\n",
       "0      10  price range      30            \n",
       "1      20  price range      40            \n",
       "2   50000  price range      50            "
      ]
     },
     "execution_count": 4,
     "metadata": {},
     "output_type": "execute_result"
    },
    {
     "data": {
      "text/html": [
       "<div>\n",
       "<style scoped>\n",
       "    .dataframe tbody tr th:only-of-type {\n",
       "        vertical-align: middle;\n",
       "    }\n",
       "\n",
       "    .dataframe tbody tr th {\n",
       "        vertical-align: top;\n",
       "    }\n",
       "\n",
       "    .dataframe thead th {\n",
       "        text-align: right;\n",
       "    }\n",
       "</style>\n",
       "<table border=\"1\" class=\"dataframe\">\n",
       "  <thead>\n",
       "    <tr style=\"text-align: right;\">\n",
       "      <th></th>\n",
       "      <th>price1</th>\n",
       "      <th>price1_name</th>\n",
       "    </tr>\n",
       "  </thead>\n",
       "  <tbody>\n",
       "    <tr>\n",
       "      <th>0</th>\n",
       "      <td>1</td>\n",
       "      <td>haha</td>\n",
       "    </tr>\n",
       "    <tr>\n",
       "      <th>1</th>\n",
       "      <td>2</td>\n",
       "      <td>haha</td>\n",
       "    </tr>\n",
       "    <tr>\n",
       "      <th>2</th>\n",
       "      <td>3</td>\n",
       "      <td>hahaha</td>\n",
       "    </tr>\n",
       "  </tbody>\n",
       "</table>\n",
       "</div>"
      ],
      "text/plain": [
       "   price1 price1_name\n",
       "0       1        haha\n",
       "1       2        haha\n",
       "2       3      hahaha"
      ]
     },
     "execution_count": 4,
     "metadata": {},
     "output_type": "execute_result"
    },
    {
     "data": {
      "text/html": [
       "<div>\n",
       "<style scoped>\n",
       "    .dataframe tbody tr th:only-of-type {\n",
       "        vertical-align: middle;\n",
       "    }\n",
       "\n",
       "    .dataframe tbody tr th {\n",
       "        vertical-align: top;\n",
       "    }\n",
       "\n",
       "    .dataframe thead th {\n",
       "        text-align: right;\n",
       "    }\n",
       "</style>\n",
       "<table border=\"1\" class=\"dataframe\">\n",
       "  <thead>\n",
       "    <tr style=\"text-align: right;\">\n",
       "      <th></th>\n",
       "      <th>price1</th>\n",
       "      <th>price1_name</th>\n",
       "    </tr>\n",
       "  </thead>\n",
       "  <tbody>\n",
       "    <tr>\n",
       "      <th>0</th>\n",
       "      <td>1</td>\n",
       "      <td>haha</td>\n",
       "    </tr>\n",
       "    <tr>\n",
       "      <th>1</th>\n",
       "      <td>2</td>\n",
       "      <td>haha</td>\n",
       "    </tr>\n",
       "  </tbody>\n",
       "</table>\n",
       "</div>"
      ],
      "text/plain": [
       "   price1 price1_name\n",
       "0       1        haha\n",
       "1       2        haha"
      ]
     },
     "execution_count": 4,
     "metadata": {},
     "output_type": "execute_result"
    }
   ],
   "source": [
    "# df_2rows is a subset of df_keep, thus df_2rows should be thrown away\n",
    "df_keep\n",
    "df_2rows\n",
    "\n",
    "# df_missing_col is a subset of df_keep2, thus df_missing_col should be thrown away\n",
    "df_keep2\n",
    "df_missing_col\n",
    "\n",
    "# similarly, for df_throw, as the name implies\n",
    "df_keep3\n",
    "df_throw"
   ]
  },
  {
   "cell_type": "code",
   "execution_count": 5,
   "metadata": {
    "ExecuteTime": {
     "end_time": "2019-08-11T23:50:05.847053Z",
     "start_time": "2019-08-11T23:50:05.842869Z"
    }
   },
   "outputs": [],
   "source": [
    "# Now we want to compare all dataframes under the same company, \n",
    "# such that finally there should only be df_keep and df_keep2 remains,\n",
    "# while retaining the original dictionary format, which is:\n",
    "\n",
    "# ideal_dict = {\n",
    "#     'ABC123': [df_keep],\n",
    "#     'ABC456': [df_keep2],\n",
    "#     'DEF789': [df_keep, df_keep2],\n",
    "#     'DEF101': [df_keep3]\n",
    "# }\n",
    "\n",
    "test_dict = {\n",
    "    'ABC123': [df_keep, df_missing_col],\n",
    "    'ABC456': [df_keep2, df_2rows],\n",
    "    'DEF789': [df_keep, df_keep2, df_missing_col, df_2rows],\n",
    "    'DEF101': [df_keep3, df_throw]\n",
    "}"
   ]
  },
  {
   "cell_type": "code",
   "execution_count": null,
   "metadata": {
    "ExecuteTime": {
     "end_time": "2019-08-11T20:45:06.412394Z",
     "start_time": "2019-08-11T20:45:06.402652Z"
    }
   },
   "outputs": [],
   "source": [
    "def extract_subset_tables(dictionary):\n",
    "    \"\"\"\n",
    "    This function extracts subset dataframes (both column-wise and row_wise),\n",
    "    and append those into a list.\n",
    "    \n",
    "    dictionary: dictionary with file_header as keys and list of dataframes as values\n",
    "    \"\"\"\n",
    "    import re\n",
    "    from itertools import chain, permutations\n",
    "    company_list = []\n",
    "    subset_df_list = []\n",
    "    for keys in dictionary.keys():\n",
    "        company_list.append(keys)\n",
    "    trim_company_set = {re.sub('[0-9]', '', company) for company in company_list}\n",
    "    for company in trim_company_set:\n",
    "        subdict = {k: v for k, v in dictionary.items() if k.startswith(company)}\n",
    "        tables_within_a_company = list(chain.from_iterable(subdict.values()))\n",
    "        combo_list = list(permutations(range(len(tables_within_a_company)),2))\n",
    "        subset_index = []\n",
    "        for df1_index, df2_index in combo_list:\n",
    "            if isinstance(tables_within_a_company[df1_index], pd.DataFrame) & isinstance(tables_within_a_company[df1_index], pd.DataFrame):\n",
    "                df1_set = {x for x in (tables_within_a_company[df1_index].to_numpy().flatten()) if pd.notna(x) & (x != '')}\n",
    "                df2_set = {x for x in (tables_within_a_company[df2_index].to_numpy().flatten()) if pd.notna(x) & (x != '')}\n",
    "                if df1_set.issubset(df2_set):\n",
    "                    subset_index.append(df1_index)\n",
    "        to_be_del = list(set(subset_index))\n",
    "        for index in to_be_del:\n",
    "            subset_df_list.append(tables_within_a_company[index])\n",
    "    return subset_df_list"
   ]
  },
  {
   "cell_type": "code",
   "execution_count": null,
   "metadata": {
    "ExecuteTime": {
     "end_time": "2019-08-11T20:45:06.433429Z",
     "start_time": "2019-08-11T20:45:06.414759Z"
    }
   },
   "outputs": [],
   "source": [
    "extract_subset_tables(test_dict)"
   ]
  },
  {
   "cell_type": "code",
   "execution_count": null,
   "metadata": {
    "ExecuteTime": {
     "end_time": "2019-08-11T20:45:06.440673Z",
     "start_time": "2019-08-11T20:45:06.435282Z"
    }
   },
   "outputs": [],
   "source": [
    "def remove_subset_tables(dictionary, list_subset_tables):\n",
    "    from collections import defaultdict\n",
    "    deleted_df = defaultdict(list) # Initialize a dictionary with list as values to house the indices\n",
    "    for k in dictionary.keys():\n",
    "        target_list = dictionary[k]\n",
    "        duplicated_index = []\n",
    "        for index in range(len(target_list)):\n",
    "            for subset_df in list_subset_tables:\n",
    "                if isinstance(target_list[index], pd.DataFrame):\n",
    "                    if target_list[index].equals(subset_df):\n",
    "                        duplicated_index.append(index)              \n",
    "        to_be_del = list(set(duplicated_index)) # Remove duplicated indices in case there are >2 identical dataframes\n",
    "        to_be_del.sort(reverse=True) # We want to remove the dataframes backward to not mess up with the indices\n",
    "        for index in to_be_del:\n",
    "            del target_list[index]\n",
    "            deleted_df[k].append(index) # Save the deleted dataframes as dictionary with file_header as keys and list of respective indices as values\n",
    "    return deleted_df"
   ]
  },
  {
   "cell_type": "code",
   "execution_count": null,
   "metadata": {
    "ExecuteTime": {
     "end_time": "2019-08-11T20:45:06.456682Z",
     "start_time": "2019-08-11T20:45:06.442554Z"
    }
   },
   "outputs": [],
   "source": [
    "# Showing dataframes that are thrown away\n",
    "remove_subset_tables(test_dict, extract_subset_tables(test_dict))"
   ]
  },
  {
   "cell_type": "code",
   "execution_count": null,
   "metadata": {
    "ExecuteTime": {
     "end_time": "2019-08-11T20:45:06.472477Z",
     "start_time": "2019-08-11T20:45:06.458484Z"
    }
   },
   "outputs": [],
   "source": [
    "# Remaining dataframes, which are what we wanted\n",
    "test_dict"
   ]
  },
  {
   "cell_type": "code",
   "execution_count": 10,
   "metadata": {
    "ExecuteTime": {
     "end_time": "2019-08-11T23:52:01.965549Z",
     "start_time": "2019-08-11T23:52:01.953399Z"
    }
   },
   "outputs": [],
   "source": [
    "def delete_subset(dictionary):\n",
    "    '''\n",
    "    This function removes any subset dataframe within the same key,\n",
    "    outputs a dictionary indicating deleted tickers and respective indices.\n",
    "\n",
    "    dictionary: dictionary with file_header as keys and list of dataframes as values\n",
    "    '''\n",
    "    from itertools import permutations\n",
    "    from collections import defaultdict, Counter\n",
    "    import pandas as pd\n",
    "    import numpy as np\n",
    "    deleted_df = defaultdict(list) # Initialize a dictionary with list as values to house the indices\n",
    "    for k in dictionary.keys():\n",
    "        target_list = dictionary[k]\n",
    "        combo_list = list(permutations(range(len(target_list)),2)) # Use permutations here because sequence is important to compare subsets\n",
    "        subset_index = []\n",
    "        for df1_index, df2_index in combo_list:\n",
    "            if isinstance(target_list[df1_index], pd.DataFrame) & isinstance(target_list[df2_index], pd.DataFrame): # Assert that we are comparing two dataframes            \n",
    "                df1_set = {x for x in (target_list[df1_index].to_numpy().flatten()) if pd.notna(x) & (x != '')}\n",
    "                df2_set = {x for x in (target_list[df2_index].to_numpy().flatten()) if pd.notna(x) & (x != '')} # Flatten a dataframe to get unique cell values\n",
    "                df1_lst = [x for x in (target_list[df1_index].to_numpy().flatten()) if pd.notna(x) & (x != '')]\n",
    "                df2_lst = [x for x in (target_list[df2_index].to_numpy().flatten()) if pd.notna(x) & (x != '')] # Flatten a dataframe to get cell values\n",
    "                if df1_set.issubset(df2_set):\n",
    "                    df1_count = Counter(df1_lst)\n",
    "                    df2_count = Counter(df2_lst)\n",
    "                    boolean = []\n",
    "                    for keys in df1_count.keys(): # Further safety measures\n",
    "                        if df1_count[keys] <= df2_count[keys]:\n",
    "                            boolean.append(True)\n",
    "                        else:\n",
    "                            boolean.append(False)\n",
    "                        if np.array(boolean).all():\n",
    "                            subset_index.append(df1_index)\n",
    "        to_be_del = list(set(subset_index)) # Remove duplicated indices in case there are >2 identical dataframes\n",
    "        to_be_del.sort(reverse=True) # We want to remove the dataframes backward to not mess up with the indices\n",
    "        for index in to_be_del:\n",
    "            del target_list[index]\n",
    "            deleted_df[k].append(index) # Save the deleted dataframe as dictionary with file_header as keys and list of respective indices as values\n",
    "    return deleted_df"
   ]
  },
  {
   "cell_type": "code",
   "execution_count": 11,
   "metadata": {
    "ExecuteTime": {
     "end_time": "2019-08-11T23:52:03.519853Z",
     "start_time": "2019-08-11T23:52:03.507871Z"
    }
   },
   "outputs": [
    {
     "data": {
      "text/plain": [
       "defaultdict(list, {'DEF789': [3, 2], 'DEF101': [1]})"
      ]
     },
     "execution_count": 11,
     "metadata": {},
     "output_type": "execute_result"
    }
   ],
   "source": [
    "delete_subset(test_dict)"
   ]
  }
 ],
 "metadata": {
  "hide_input": false,
  "kernelspec": {
   "display_name": "Python 3",
   "language": "python",
   "name": "python3"
  },
  "language_info": {
   "codemirror_mode": {
    "name": "ipython",
    "version": 3
   },
   "file_extension": ".py",
   "mimetype": "text/x-python",
   "name": "python",
   "nbconvert_exporter": "python",
   "pygments_lexer": "ipython3",
   "version": "3.7.3"
  },
  "toc": {
   "base_numbering": 1,
   "nav_menu": {},
   "number_sections": true,
   "sideBar": true,
   "skip_h1_title": false,
   "title_cell": "Table of Contents",
   "title_sidebar": "Contents",
   "toc_cell": false,
   "toc_position": {},
   "toc_section_display": true,
   "toc_window_display": false
  }
 },
 "nbformat": 4,
 "nbformat_minor": 2
}
