{
 "cells": [
  {
   "cell_type": "code",
   "execution_count": 1,
   "metadata": {
    "ExecuteTime": {
     "end_time": "2019-08-10T02:44:17.844095Z",
     "start_time": "2019-08-10T02:44:17.229098Z"
    }
   },
   "outputs": [],
   "source": [
    "import pandas as pd\n",
    "import numpy as np\n",
    "import pickle\n",
    "from nel_functions import delete_duplicated\n",
    "from zlu_functions import trimDictonary\n",
    "\n",
    "from IPython.core.interactiveshell import InteractiveShell\n",
    "InteractiveShell.ast_node_interactivity = 'all'"
   ]
  },
  {
   "cell_type": "code",
   "execution_count": 2,
   "metadata": {
    "ExecuteTime": {
     "end_time": "2019-08-10T02:44:18.017355Z",
     "start_time": "2019-08-10T02:44:17.847702Z"
    }
   },
   "outputs": [],
   "source": [
    "pickle_in=open('hedge_all_dfs.pickle','rb')\n",
    "output_dct=pickle.load(pickle_in)"
   ]
  },
  {
   "cell_type": "code",
   "execution_count": 3,
   "metadata": {
    "ExecuteTime": {
     "end_time": "2019-08-10T02:44:18.022591Z",
     "start_time": "2019-08-10T02:44:18.019351Z"
    }
   },
   "outputs": [],
   "source": [
    "another_dct = trimDictonary(output_dct, [])"
   ]
  },
  {
   "cell_type": "code",
   "execution_count": 4,
   "metadata": {
    "ExecuteTime": {
     "end_time": "2019-08-10T02:44:18.039962Z",
     "start_time": "2019-08-10T02:44:18.025113Z"
    }
   },
   "outputs": [
    {
     "data": {
      "text/plain": [
       "2"
      ]
     },
     "execution_count": 4,
     "metadata": {},
     "output_type": "execute_result"
    },
    {
     "data": {
      "text/plain": [
       "6"
      ]
     },
     "execution_count": 4,
     "metadata": {},
     "output_type": "execute_result"
    },
    {
     "data": {
      "text/plain": [
       "8"
      ]
     },
     "execution_count": 4,
     "metadata": {},
     "output_type": "execute_result"
    }
   ],
   "source": [
    "# For each of the corresponding file_header, half of the dataframes are duplicated, so expect [1,3,4] after processing\n",
    "len(another_dct['ISRL20090323'])\n",
    "len(another_dct['ISRL20100312'])\n",
    "len(another_dct['ISRL20110311'])"
   ]
  },
  {
   "cell_type": "code",
   "execution_count": 5,
   "metadata": {
    "ExecuteTime": {
     "end_time": "2019-08-10T02:44:18.150402Z",
     "start_time": "2019-08-10T02:44:18.041843Z"
    }
   },
   "outputs": [
    {
     "data": {
      "text/plain": [
       "defaultdict(list,\n",
       "            {'APA20060314': [1],\n",
       "             'APA20070301': [3, 2],\n",
       "             'APA20080229': [1],\n",
       "             'APA20090302': [3, 2],\n",
       "             'APA20100226': [5, 4, 3],\n",
       "             'APA20110228': [3, 2],\n",
       "             'APA20120229': [3, 2],\n",
       "             'APC20040304': [3, 2],\n",
       "             'APC20050315': [3, 2],\n",
       "             'APC20060303': [3, 2],\n",
       "             'APC20070228': [1],\n",
       "             'APC20080229': [5, 4, 3],\n",
       "             'APC20090225': [3, 2],\n",
       "             'APC20100223': [3, 2],\n",
       "             'APC20110223': [3, 2],\n",
       "             'APC20140228': [1],\n",
       "             'APC20150220': [1],\n",
       "             'APC20160217': [1],\n",
       "             'APC20170217': [1],\n",
       "             'BRY20040310': [1],\n",
       "             'BRY20060306': [3, 2],\n",
       "             'BRY20070228': [1],\n",
       "             'BRY20080226': [1],\n",
       "             'BRY20100225': [1],\n",
       "             'BRY20110301': [1],\n",
       "             'BRY20120228': [1],\n",
       "             'BRY20130228': [1],\n",
       "             'CLR20100226': [9, 8, 7, 6, 5],\n",
       "             'CLR20110225': [7, 6, 5, 4],\n",
       "             'CLR20120224': [5, 4, 3],\n",
       "             'CLR20130228': [9, 8, 7, 6, 5],\n",
       "             'CLR20140227': [9, 8, 7, 6, 5],\n",
       "             'CLR20150224': [1],\n",
       "             'CLR20160224': [1],\n",
       "             'CLR20170222': [3, 2],\n",
       "             'CPE20060315': [3, 2],\n",
       "             'CPE20070316': [1],\n",
       "             'CPE20080317': [3, 2],\n",
       "             'CPE20100312': [1],\n",
       "             'CPE20110315': [1],\n",
       "             'CPE20120315': [1],\n",
       "             'CPE20140313': [3, 2],\n",
       "             'CPE20150305': [5, 4, 3],\n",
       "             'CPE20160303': [3, 2],\n",
       "             'DBLE20130314': [1],\n",
       "             'DBLE20140313': [3, 2],\n",
       "             'DVN20040305': [3, 2],\n",
       "             'DVN20050309': [13, 12, 11, 10, 9, 8, 7, 3],\n",
       "             'DVN20060303': [1],\n",
       "             'DVN20080228': [5, 4, 3, 2],\n",
       "             'DVN20090227': [1],\n",
       "             'DVN20150220': [7, 6, 5, 4],\n",
       "             'DVN20170215': [7, 6, 5, 4],\n",
       "             'ECA20170227': [1],\n",
       "             'EP20070228': [1],\n",
       "             'EP20110301': [1],\n",
       "             'ESCR20150415': [1],\n",
       "             'EXCO20030326': [3, 2],\n",
       "             'FST20030321': [9, 8, 7, 6, 5],\n",
       "             'FST20050315': [11, 10, 9, 8, 7, 6, 5, 4],\n",
       "             'FST20060316': [7, 6, 5, 4],\n",
       "             'FST20120222': [7, 6, 5, 4],\n",
       "             'GDP20100226': [1],\n",
       "             'GDP20130222': [1],\n",
       "             'GDP20140221': [3, 2],\n",
       "             'GDP20150302': [1],\n",
       "             'HFC20130228': [5, 4, 3, 2],\n",
       "             'HFC20140226': [3, 2],\n",
       "             'HFC20150225': [5, 4, 3, 2],\n",
       "             'HFC20160224': [5, 4, 3],\n",
       "             'HFC20170222': [5, 4, 3],\n",
       "             'ISRL20090323': [1],\n",
       "             'ISRL20100312': [5, 4, 3],\n",
       "             'ISRL20110311': [7, 6, 5, 4],\n",
       "             'MRO20040309': [1],\n",
       "             'MRO20100226': [3, 2],\n",
       "             'MRO20130222': [1],\n",
       "             'MRO20170224': [7, 6, 5, 4, 2],\n",
       "             'MUR20140228': [1],\n",
       "             'MXC20140625': [1],\n",
       "             'NBL20030311': [7, 6, 5, 4, 3, 2],\n",
       "             'NBL20040315': [7, 6, 5, 4, 3],\n",
       "             'NBL20130207': [3, 2],\n",
       "             'NBL20140206': [3, 2],\n",
       "             'NBL20150219': [3, 2],\n",
       "             'NBL20160217': [3, 2],\n",
       "             'NBL20170214': [3, 2],\n",
       "             'NBR20100226': [3, 2],\n",
       "             'OXY20070227': [3, 2],\n",
       "             'PDCE20130227': [1],\n",
       "             'PDCE20140221': [1],\n",
       "             'PDCE20150219': [1],\n",
       "             'PDCE20160222': [1],\n",
       "             'PDCE20170228': [1],\n",
       "             'PENG20040315': [1],\n",
       "             'PETD20050331': [1],\n",
       "             'PETD20070523': [3, 2],\n",
       "             'PETD20090227': [3, 2],\n",
       "             'PETD20100304': [5, 4, 3],\n",
       "             'PETD20110224': [1],\n",
       "             'PETD20120301': [3, 2],\n",
       "             'PLLL20050316': [7, 6, 5, 4],\n",
       "             'PLLL20060316': [3, 2],\n",
       "             'PLLL20070228': [1],\n",
       "             'PLLL20080220': [1],\n",
       "             'PNRG20070402': [1],\n",
       "             'PNRG20080327': [1],\n",
       "             'PNRG20170418': [1],\n",
       "             'PPP20030227': [7, 6, 5, 4],\n",
       "             'PPP20050307': [3, 2],\n",
       "             'PPP20060302': [7, 6, 5, 4],\n",
       "             'PPP20070301': [7, 6, 5, 4, 2],\n",
       "             'PVA20030311': [5, 4, 3],\n",
       "             'PVA20040311': [5, 4, 3],\n",
       "             'PVA20050311': [1],\n",
       "             'PVA20060316': [3, 2],\n",
       "             'PVA20120227': [3, 2],\n",
       "             'PVA20130225': [3, 2],\n",
       "             'PVA20140224': [3, 2],\n",
       "             'PVA20150225': [3, 2],\n",
       "             'PXD20060217': [7, 6, 5, 4],\n",
       "             'PXD20130213': [3, 2],\n",
       "             'PXD20140227': [5, 4, 3],\n",
       "             'PXD20160219': [3, 2],\n",
       "             'PXD20170217': [3, 2],\n",
       "             'RRC20040303': [3, 2],\n",
       "             'RRC20050302': [5, 4, 3],\n",
       "             'RRC20060223': [3, 2],\n",
       "             'RRC20070227': [5, 4, 3, 2],\n",
       "             'RRC20080227': [5, 4, 3],\n",
       "             'RRC20090225': [5, 4, 3],\n",
       "             'RRC20100224': [5, 4, 3],\n",
       "             'RRC20110301': [7, 6, 5, 4],\n",
       "             'RRC20120222': [5, 4, 3, 2],\n",
       "             'RRC20130227': [5, 4, 3, 2],\n",
       "             'RRC20140226': [3, 2],\n",
       "             'RRC20150224': [3, 2],\n",
       "             'RRC20160225': [11, 10, 9, 8, 7, 6, 5, 4],\n",
       "             'RRC20170222': [3, 2],\n",
       "             'SFY20060302': [1],\n",
       "             'SFY20140303': [5, 4, 3],\n",
       "             'SFY20150302': [3, 2],\n",
       "             'SWN20030218': [1],\n",
       "             'SWN20040225': [1],\n",
       "             'SWN20050308': [1],\n",
       "             'SWN20060306': [1],\n",
       "             'SWN20070301': [1],\n",
       "             'SWN20080228': [1],\n",
       "             'SWN20090226': [1],\n",
       "             'SWN20100225': [3, 2],\n",
       "             'SWN20110225': [1],\n",
       "             'SWN20120228': [1],\n",
       "             'SWN20130221': [1],\n",
       "             'SWN20140227': [1],\n",
       "             'TMR20080317': [3, 2],\n",
       "             'TMR20090316': [3, 2],\n",
       "             'TSO20170221': [1],\n",
       "             'UNT20060313': [11, 10, 9, 8, 7, 6, 5, 4, 3],\n",
       "             'UNT20070301': [9, 8, 7, 6, 5],\n",
       "             'UNT20080228': [15, 14, 13, 12, 11, 10, 9, 8, 4],\n",
       "             'UNT20110224': [9, 8, 7, 6, 5, 4],\n",
       "             'UNT20120223': [7, 6, 5, 4, 3, 2],\n",
       "             'UNT20130226': [7, 6, 5, 4],\n",
       "             'UNT20140225': [7, 6, 5, 4, 3],\n",
       "             'UNT20150224': [7, 6, 5, 4, 3],\n",
       "             'UNT20160225': [11, 10, 9, 8, 7, 6, 5, 4, 3],\n",
       "             'UNT20170228': [11, 10, 9, 8, 7, 6, 5, 4, 3],\n",
       "             'XCO20060331': [9, 8, 7, 6, 5, 4],\n",
       "             'XCO20070319': [11, 10, 9, 8, 7, 6],\n",
       "             'XCO20080229': [5, 4, 3]})"
      ]
     },
     "execution_count": 5,
     "metadata": {},
     "output_type": "execute_result"
    }
   ],
   "source": [
    "# Print out the file_header with corresponding deleted indices\n",
    "delete_duplicated(another_dct)"
   ]
  },
  {
   "cell_type": "code",
   "execution_count": 6,
   "metadata": {
    "ExecuteTime": {
     "end_time": "2019-08-10T02:44:18.166827Z",
     "start_time": "2019-08-10T02:44:18.152990Z"
    }
   },
   "outputs": [
    {
     "data": {
      "text/plain": [
       "1"
      ]
     },
     "execution_count": 6,
     "metadata": {},
     "output_type": "execute_result"
    },
    {
     "data": {
      "text/plain": [
       "3"
      ]
     },
     "execution_count": 6,
     "metadata": {},
     "output_type": "execute_result"
    },
    {
     "data": {
      "text/plain": [
       "4"
      ]
     },
     "execution_count": 6,
     "metadata": {},
     "output_type": "execute_result"
    }
   ],
   "source": [
    "# Indeed\n",
    "len(another_dct['ISRL20090323'])\n",
    "len(another_dct['ISRL20100312'])\n",
    "len(another_dct['ISRL20110311'])"
   ]
  }
 ],
 "metadata": {
  "hide_input": false,
  "kernelspec": {
   "display_name": "Python 3",
   "language": "python",
   "name": "python3"
  },
  "language_info": {
   "codemirror_mode": {
    "name": "ipython",
    "version": 3
   },
   "file_extension": ".py",
   "mimetype": "text/x-python",
   "name": "python",
   "nbconvert_exporter": "python",
   "pygments_lexer": "ipython3",
   "version": "3.7.3"
  },
  "toc": {
   "base_numbering": 1,
   "nav_menu": {},
   "number_sections": true,
   "sideBar": true,
   "skip_h1_title": false,
   "title_cell": "Table of Contents",
   "title_sidebar": "Contents",
   "toc_cell": false,
   "toc_position": {},
   "toc_section_display": true,
   "toc_window_display": false
  }
 },
 "nbformat": 4,
 "nbformat_minor": 2
}
