{
 "cells": [
  {
   "cell_type": "markdown",
   "metadata": {},
   "source": [
    "# Delete duplicated dataframes"
   ]
  },
  {
   "cell_type": "code",
   "execution_count": 1,
   "metadata": {
    "ExecuteTime": {
     "end_time": "2019-08-14T20:52:10.115587Z",
     "start_time": "2019-08-14T20:52:09.647234Z"
    }
   },
   "outputs": [],
   "source": [
    "import pandas as pd\n",
    "import numpy as np\n",
    "import pickle\n",
    "\n",
    "from IPython.core.interactiveshell import InteractiveShell\n",
    "InteractiveShell.ast_node_interactivity = 'all'"
   ]
  },
  {
   "cell_type": "code",
   "execution_count": 2,
   "metadata": {
    "ExecuteTime": {
     "end_time": "2019-08-14T20:52:10.184261Z",
     "start_time": "2019-08-14T20:52:10.118087Z"
    }
   },
   "outputs": [],
   "source": [
    "pickle_in=open('hedge_dfs_subset.pickle','rb')\n",
    "output_dct=pickle.load(pickle_in)"
   ]
  },
  {
   "cell_type": "code",
   "execution_count": 3,
   "metadata": {
    "ExecuteTime": {
     "end_time": "2019-08-14T20:52:10.197624Z",
     "start_time": "2019-08-14T20:52:10.186378Z"
    }
   },
   "outputs": [
    {
     "data": {
      "text/plain": [
       "dict_keys(['FST20030321', 'FST20040315', 'FST20050315', 'FST20060316', 'FST20070228', 'FST20080228', 'FST20090302', 'FST20100301', 'FST20110224', 'FST20120222', 'FST20130222', 'FST20140226', 'GDP20030327', 'GDP20040412', 'GDP20060315', 'GDP20070314', 'GDP20080313', 'GDP20090227', 'GDP20100226', 'GDP20110222', 'GDP20120224', 'GDP20130222', 'GDP20140221', 'GDP20150302', 'ISRL20030331', 'ISRL20040330', 'ISRL20050331', 'ISRL20060324', 'ISRL20070316', 'ISRL20090323', 'ISRL20100312', 'ISRL20110311', 'ISRL20130315', 'ISRL20140317', 'ISRL20150310', 'ISRL20160314', 'ISRL20170314', 'MRO20030310', 'MRO20040309', 'MRO20050310', 'MRO20060306', 'MRO20070301', 'MRO20080229', 'MRO20090227', 'MRO20100226', 'MRO20110228', 'MRO20120229', 'MRO20130222', 'MRO20140228', 'MRO20150302', 'MRO20160225', 'MRO20170224', 'PLLL20050316', 'PLLL20060316', 'PLLL20070228', 'PLLL20080220', 'PLLL20090223', 'XCO20060331', 'XCO20070319', 'XCO20080229', 'XCO20090226', 'XCO20100224', 'XCO20110224', 'XCO20120227', 'XCO20130221', 'XCO20140226', 'XCO20150225', 'XCO20160302', 'XCO20170316'])"
      ]
     },
     "execution_count": 3,
     "metadata": {},
     "output_type": "execute_result"
    }
   ],
   "source": [
    "output_dct.keys()"
   ]
  },
  {
   "cell_type": "code",
   "execution_count": 4,
   "metadata": {
    "ExecuteTime": {
     "end_time": "2019-08-14T20:52:10.208561Z",
     "start_time": "2019-08-14T20:52:10.201201Z"
    }
   },
   "outputs": [],
   "source": [
    "from zlu_functions import del_subset_col, set_col_headers, row_header_to_col\n",
    "from helper import trimDictonary"
   ]
  },
  {
   "cell_type": "code",
   "execution_count": 5,
   "metadata": {
    "ExecuteTime": {
     "end_time": "2019-08-14T20:52:10.215754Z",
     "start_time": "2019-08-14T20:52:10.211276Z"
    }
   },
   "outputs": [],
   "source": [
    "another_dct = trimDictonary(output_dct, [])"
   ]
  },
  {
   "cell_type": "code",
   "execution_count": 6,
   "metadata": {
    "ExecuteTime": {
     "end_time": "2019-08-14T20:52:14.592139Z",
     "start_time": "2019-08-14T20:52:10.220020Z"
    }
   },
   "outputs": [],
   "source": [
    "for k in another_dct.keys():\n",
    "    for i in range(len(another_dct[k])):\n",
    "        df=another_dct[k][i]\n",
    "        df=set_col_headers(df)\n",
    "        df=del_subset_col(df)\n",
    "        another_dct[k][i]=df"
   ]
  },
  {
   "cell_type": "code",
   "execution_count": 7,
   "metadata": {
    "ExecuteTime": {
     "end_time": "2019-08-14T20:52:14.597786Z",
     "start_time": "2019-08-14T20:52:14.594556Z"
    }
   },
   "outputs": [],
   "source": [
    "subdict = {k: v for k, v in another_dct.items() if k.startswith('ISRL')}"
   ]
  },
  {
   "cell_type": "code",
   "execution_count": 8,
   "metadata": {
    "ExecuteTime": {
     "end_time": "2019-08-14T20:52:14.612117Z",
     "start_time": "2019-08-14T20:52:14.599997Z"
    }
   },
   "outputs": [
    {
     "data": {
      "text/plain": [
       "dict_keys(['ISRL20090323', 'ISRL20100312', 'ISRL20110311'])"
      ]
     },
     "execution_count": 8,
     "metadata": {},
     "output_type": "execute_result"
    }
   ],
   "source": [
    "subdict.keys()"
   ]
  },
  {
   "cell_type": "code",
   "execution_count": 9,
   "metadata": {
    "ExecuteTime": {
     "end_time": "2019-08-14T20:52:14.629586Z",
     "start_time": "2019-08-14T20:52:14.615726Z"
    }
   },
   "outputs": [
    {
     "data": {
      "text/plain": [
       "2"
      ]
     },
     "execution_count": 9,
     "metadata": {},
     "output_type": "execute_result"
    },
    {
     "data": {
      "text/plain": [
       "6"
      ]
     },
     "execution_count": 9,
     "metadata": {},
     "output_type": "execute_result"
    },
    {
     "data": {
      "text/plain": [
       "8"
      ]
     },
     "execution_count": 9,
     "metadata": {},
     "output_type": "execute_result"
    }
   ],
   "source": [
    "len(subdict['ISRL20090323'])\n",
    "len(subdict['ISRL20100312'])\n",
    "len(subdict['ISRL20110311'])"
   ]
  },
  {
   "cell_type": "code",
   "execution_count": 10,
   "metadata": {
    "ExecuteTime": {
     "end_time": "2019-08-14T20:52:14.667085Z",
     "start_time": "2019-08-14T20:52:14.633733Z"
    }
   },
   "outputs": [
    {
     "data": {
      "text/html": [
       "<div>\n",
       "<style scoped>\n",
       "    .dataframe tbody tr th:only-of-type {\n",
       "        vertical-align: middle;\n",
       "    }\n",
       "\n",
       "    .dataframe tbody tr th {\n",
       "        vertical-align: top;\n",
       "    }\n",
       "\n",
       "    .dataframe thead th {\n",
       "        text-align: right;\n",
       "    }\n",
       "</style>\n",
       "<table border=\"1\" class=\"dataframe\">\n",
       "  <thead>\n",
       "    <tr style=\"text-align: right;\">\n",
       "      <th></th>\n",
       "      <th>,</th>\n",
       "      <th>Swap  Contracts.1Natural Gas,Volume (MMBTU) ( )</th>\n",
       "      <th>Swap  Contracts.5Natural Gas,Weighted Average Price ($/MMBTU)</th>\n",
       "      <th>Swap  Contracts.9Crude Oil,Volume (Bbl)</th>\n",
       "      <th>Swap  Contracts.13Crude Oil,Weighted Average Price ($/Bbl)</th>\n",
       "    </tr>\n",
       "  </thead>\n",
       "  <tbody>\n",
       "    <tr>\n",
       "      <th>2</th>\n",
       "      <td>2009.0</td>\n",
       "      <td>2054928</td>\n",
       "      <td>8.25</td>\n",
       "      <td>274596</td>\n",
       "      <td>81.00</td>\n",
       "    </tr>\n",
       "    <tr>\n",
       "      <th>3</th>\n",
       "      <td>2010.0</td>\n",
       "      <td>1785648</td>\n",
       "      <td>7.88</td>\n",
       "      <td>254868</td>\n",
       "      <td>79.59</td>\n",
       "    </tr>\n",
       "    <tr>\n",
       "      <th>4</th>\n",
       "      <td>2011.0</td>\n",
       "      <td>764820</td>\n",
       "      <td>8.22</td>\n",
       "      <td>210307</td>\n",
       "      <td>87.53</td>\n",
       "    </tr>\n",
       "    <tr>\n",
       "      <th>5</th>\n",
       "      <td>2012.0</td>\n",
       "      <td>174222</td>\n",
       "      <td>8.65</td>\n",
       "      <td>31953</td>\n",
       "      <td>88.20</td>\n",
       "    </tr>\n",
       "  </tbody>\n",
       "</table>\n",
       "</div>"
      ],
      "text/plain": [
       "        , Swap  Contracts.1Natural Gas,Volume (MMBTU) ( )  \\\n",
       "2  2009.0                                         2054928   \n",
       "3  2010.0                                         1785648   \n",
       "4  2011.0                                          764820   \n",
       "5  2012.0                                          174222   \n",
       "\n",
       "  Swap  Contracts.5Natural Gas,Weighted Average Price ($/MMBTU)  \\\n",
       "2                                               8.25              \n",
       "3                                               7.88              \n",
       "4                                               8.22              \n",
       "5                                               8.65              \n",
       "\n",
       "  Swap  Contracts.9Crude Oil,Volume (Bbl)  \\\n",
       "2                                  274596   \n",
       "3                                  254868   \n",
       "4                                  210307   \n",
       "5                                   31953   \n",
       "\n",
       "  Swap  Contracts.13Crude Oil,Weighted Average Price ($/Bbl)  \n",
       "2                                              81.00          \n",
       "3                                              79.59          \n",
       "4                                              87.53          \n",
       "5                                              88.20          "
      ]
     },
     "execution_count": 10,
     "metadata": {},
     "output_type": "execute_result"
    },
    {
     "data": {
      "text/html": [
       "<div>\n",
       "<style scoped>\n",
       "    .dataframe tbody tr th:only-of-type {\n",
       "        vertical-align: middle;\n",
       "    }\n",
       "\n",
       "    .dataframe tbody tr th {\n",
       "        vertical-align: top;\n",
       "    }\n",
       "\n",
       "    .dataframe thead th {\n",
       "        text-align: right;\n",
       "    }\n",
       "</style>\n",
       "<table border=\"1\" class=\"dataframe\">\n",
       "  <thead>\n",
       "    <tr style=\"text-align: right;\">\n",
       "      <th></th>\n",
       "      <th>,</th>\n",
       "      <th>Swap  Contracts.1Natural Gas,Volume (MMBTU) ( )</th>\n",
       "      <th>Swap  Contracts.5Natural Gas,Weighted Average Price ($/MMBTU)</th>\n",
       "      <th>Swap  Contracts.9Crude Oil,Volume (Bbl)</th>\n",
       "      <th>Swap  Contracts.13Crude Oil,Weighted Average Price ($/Bbl)</th>\n",
       "    </tr>\n",
       "  </thead>\n",
       "  <tbody>\n",
       "    <tr>\n",
       "      <th>2</th>\n",
       "      <td>2009.0</td>\n",
       "      <td>2054928</td>\n",
       "      <td>8.25</td>\n",
       "      <td>274596</td>\n",
       "      <td>81.00</td>\n",
       "    </tr>\n",
       "    <tr>\n",
       "      <th>3</th>\n",
       "      <td>2010.0</td>\n",
       "      <td>1785648</td>\n",
       "      <td>7.88</td>\n",
       "      <td>254868</td>\n",
       "      <td>79.59</td>\n",
       "    </tr>\n",
       "    <tr>\n",
       "      <th>4</th>\n",
       "      <td>2011.0</td>\n",
       "      <td>764820</td>\n",
       "      <td>8.22</td>\n",
       "      <td>210307</td>\n",
       "      <td>87.53</td>\n",
       "    </tr>\n",
       "    <tr>\n",
       "      <th>5</th>\n",
       "      <td>2012.0</td>\n",
       "      <td>174222</td>\n",
       "      <td>8.65</td>\n",
       "      <td>31953</td>\n",
       "      <td>88.20</td>\n",
       "    </tr>\n",
       "  </tbody>\n",
       "</table>\n",
       "</div>"
      ],
      "text/plain": [
       "        , Swap  Contracts.1Natural Gas,Volume (MMBTU) ( )  \\\n",
       "2  2009.0                                         2054928   \n",
       "3  2010.0                                         1785648   \n",
       "4  2011.0                                          764820   \n",
       "5  2012.0                                          174222   \n",
       "\n",
       "  Swap  Contracts.5Natural Gas,Weighted Average Price ($/MMBTU)  \\\n",
       "2                                               8.25              \n",
       "3                                               7.88              \n",
       "4                                               8.22              \n",
       "5                                               8.65              \n",
       "\n",
       "  Swap  Contracts.9Crude Oil,Volume (Bbl)  \\\n",
       "2                                  274596   \n",
       "3                                  254868   \n",
       "4                                  210307   \n",
       "5                                   31953   \n",
       "\n",
       "  Swap  Contracts.13Crude Oil,Weighted Average Price ($/Bbl)  \n",
       "2                                              81.00          \n",
       "3                                              79.59          \n",
       "4                                              87.53          \n",
       "5                                              88.20          "
      ]
     },
     "execution_count": 10,
     "metadata": {},
     "output_type": "execute_result"
    }
   ],
   "source": [
    "subdict['ISRL20090323'][0]\n",
    "subdict['ISRL20090323'][1]"
   ]
  },
  {
   "cell_type": "code",
   "execution_count": 11,
   "metadata": {
    "ExecuteTime": {
     "end_time": "2019-08-14T20:52:14.694453Z",
     "start_time": "2019-08-14T20:52:14.670437Z"
    }
   },
   "outputs": [
    {
     "data": {
      "text/html": [
       "<div>\n",
       "<style scoped>\n",
       "    .dataframe tbody tr th:only-of-type {\n",
       "        vertical-align: middle;\n",
       "    }\n",
       "\n",
       "    .dataframe tbody tr th {\n",
       "        vertical-align: top;\n",
       "    }\n",
       "\n",
       "    .dataframe thead th {\n",
       "        text-align: right;\n",
       "    }\n",
       "</style>\n",
       "<table border=\"1\" class=\"dataframe\">\n",
       "  <thead>\n",
       "    <tr style=\"text-align: right;\">\n",
       "      <th></th>\n",
       "      <th>,</th>\n",
       "      <th>Swap  Contracts.1Natural Gas,Volume (MMBTU) ( )</th>\n",
       "      <th>Swap  Contracts.5Natural Gas,Weighted Average Price ($/MMBTU)</th>\n",
       "      <th>Swap  Contracts.9Crude Oil,Volume (Bbl)</th>\n",
       "      <th>Swap  Contracts.13Crude Oil,Weighted Average Price ($/Bbl)</th>\n",
       "    </tr>\n",
       "  </thead>\n",
       "  <tbody>\n",
       "    <tr>\n",
       "      <th>2</th>\n",
       "      <td>2010.0</td>\n",
       "      <td>1785648</td>\n",
       "      <td>7.88</td>\n",
       "      <td>254868</td>\n",
       "      <td>79.59</td>\n",
       "    </tr>\n",
       "    <tr>\n",
       "      <th>3</th>\n",
       "      <td>2011.0</td>\n",
       "      <td>764820</td>\n",
       "      <td>8.22</td>\n",
       "      <td>240336</td>\n",
       "      <td>86.55</td>\n",
       "    </tr>\n",
       "    <tr>\n",
       "      <th>4</th>\n",
       "      <td>2012.0</td>\n",
       "      <td>174222</td>\n",
       "      <td>8.65</td>\n",
       "      <td>127473</td>\n",
       "      <td>82.37</td>\n",
       "    </tr>\n",
       "    <tr>\n",
       "      <th>5</th>\n",
       "      <td>2013.0</td>\n",
       "      <td>-</td>\n",
       "      <td>-</td>\n",
       "      <td>89400</td>\n",
       "      <td>85.15</td>\n",
       "    </tr>\n",
       "    <tr>\n",
       "      <th>6</th>\n",
       "      <td>2014.0</td>\n",
       "      <td>-</td>\n",
       "      <td>-</td>\n",
       "      <td>66000</td>\n",
       "      <td>86.95</td>\n",
       "    </tr>\n",
       "  </tbody>\n",
       "</table>\n",
       "</div>"
      ],
      "text/plain": [
       "        , Swap  Contracts.1Natural Gas,Volume (MMBTU) ( )  \\\n",
       "2  2010.0                                         1785648   \n",
       "3  2011.0                                          764820   \n",
       "4  2012.0                                          174222   \n",
       "5  2013.0                                               -   \n",
       "6  2014.0                                               -   \n",
       "\n",
       "  Swap  Contracts.5Natural Gas,Weighted Average Price ($/MMBTU)  \\\n",
       "2                                               7.88              \n",
       "3                                               8.22              \n",
       "4                                               8.65              \n",
       "5                                                  -              \n",
       "6                                                  -              \n",
       "\n",
       "  Swap  Contracts.9Crude Oil,Volume (Bbl)  \\\n",
       "2                                  254868   \n",
       "3                                  240336   \n",
       "4                                  127473   \n",
       "5                                   89400   \n",
       "6                                   66000   \n",
       "\n",
       "  Swap  Contracts.13Crude Oil,Weighted Average Price ($/Bbl)  \n",
       "2                                              79.59          \n",
       "3                                              86.55          \n",
       "4                                              82.37          \n",
       "5                                              85.15          \n",
       "6                                              86.95          "
      ]
     },
     "execution_count": 11,
     "metadata": {},
     "output_type": "execute_result"
    },
    {
     "data": {
      "text/html": [
       "<div>\n",
       "<style scoped>\n",
       "    .dataframe tbody tr th:only-of-type {\n",
       "        vertical-align: middle;\n",
       "    }\n",
       "\n",
       "    .dataframe tbody tr th {\n",
       "        vertical-align: top;\n",
       "    }\n",
       "\n",
       "    .dataframe thead th {\n",
       "        text-align: right;\n",
       "    }\n",
       "</style>\n",
       "<table border=\"1\" class=\"dataframe\">\n",
       "  <thead>\n",
       "    <tr style=\"text-align: right;\">\n",
       "      <th></th>\n",
       "      <th>,</th>\n",
       "      <th>Swap  Contracts.1Natural Gas,Volume (MMBTU) ( )</th>\n",
       "      <th>Swap  Contracts.5Natural Gas,Weighted Average Price ($/MMBTU)</th>\n",
       "      <th>Swap  Contracts.9Crude Oil,Volume (Bbl)</th>\n",
       "      <th>Swap  Contracts.13Crude Oil,Weighted Average Price ($/Bbl)</th>\n",
       "    </tr>\n",
       "  </thead>\n",
       "  <tbody>\n",
       "    <tr>\n",
       "      <th>2</th>\n",
       "      <td>2010.0</td>\n",
       "      <td>1785648</td>\n",
       "      <td>7.88</td>\n",
       "      <td>254868</td>\n",
       "      <td>79.59</td>\n",
       "    </tr>\n",
       "    <tr>\n",
       "      <th>3</th>\n",
       "      <td>2011.0</td>\n",
       "      <td>764820</td>\n",
       "      <td>8.22</td>\n",
       "      <td>240336</td>\n",
       "      <td>86.55</td>\n",
       "    </tr>\n",
       "    <tr>\n",
       "      <th>4</th>\n",
       "      <td>2012.0</td>\n",
       "      <td>174222</td>\n",
       "      <td>8.65</td>\n",
       "      <td>127473</td>\n",
       "      <td>82.37</td>\n",
       "    </tr>\n",
       "    <tr>\n",
       "      <th>5</th>\n",
       "      <td>2013.0</td>\n",
       "      <td>-</td>\n",
       "      <td>-</td>\n",
       "      <td>89400</td>\n",
       "      <td>85.15</td>\n",
       "    </tr>\n",
       "    <tr>\n",
       "      <th>6</th>\n",
       "      <td>2014.0</td>\n",
       "      <td>-</td>\n",
       "      <td>-</td>\n",
       "      <td>66000</td>\n",
       "      <td>86.95</td>\n",
       "    </tr>\n",
       "  </tbody>\n",
       "</table>\n",
       "</div>"
      ],
      "text/plain": [
       "        , Swap  Contracts.1Natural Gas,Volume (MMBTU) ( )  \\\n",
       "2  2010.0                                         1785648   \n",
       "3  2011.0                                          764820   \n",
       "4  2012.0                                          174222   \n",
       "5  2013.0                                               -   \n",
       "6  2014.0                                               -   \n",
       "\n",
       "  Swap  Contracts.5Natural Gas,Weighted Average Price ($/MMBTU)  \\\n",
       "2                                               7.88              \n",
       "3                                               8.22              \n",
       "4                                               8.65              \n",
       "5                                                  -              \n",
       "6                                                  -              \n",
       "\n",
       "  Swap  Contracts.9Crude Oil,Volume (Bbl)  \\\n",
       "2                                  254868   \n",
       "3                                  240336   \n",
       "4                                  127473   \n",
       "5                                   89400   \n",
       "6                                   66000   \n",
       "\n",
       "  Swap  Contracts.13Crude Oil,Weighted Average Price ($/Bbl)  \n",
       "2                                              79.59          \n",
       "3                                              86.55          \n",
       "4                                              82.37          \n",
       "5                                              85.15          \n",
       "6                                              86.95          "
      ]
     },
     "execution_count": 11,
     "metadata": {},
     "output_type": "execute_result"
    }
   ],
   "source": [
    "# three set of duplicated dataframe\n",
    "subdict['ISRL20100312'][0]\n",
    "subdict['ISRL20100312'][3]"
   ]
  },
  {
   "cell_type": "code",
   "execution_count": 12,
   "metadata": {
    "ExecuteTime": {
     "end_time": "2019-08-14T20:52:14.721628Z",
     "start_time": "2019-08-14T20:52:14.697028Z"
    }
   },
   "outputs": [
    {
     "data": {
      "text/html": [
       "<div>\n",
       "<style scoped>\n",
       "    .dataframe tbody tr th:only-of-type {\n",
       "        vertical-align: middle;\n",
       "    }\n",
       "\n",
       "    .dataframe tbody tr th {\n",
       "        vertical-align: top;\n",
       "    }\n",
       "\n",
       "    .dataframe thead th {\n",
       "        text-align: right;\n",
       "    }\n",
       "</style>\n",
       "<table border=\"1\" class=\"dataframe\">\n",
       "  <thead>\n",
       "    <tr style=\"text-align: right;\">\n",
       "      <th></th>\n",
       "      <th>,</th>\n",
       "      <th>Swap Contracts.1Natural Gas,Volume (MMBTU) ( )</th>\n",
       "      <th>Swap Contracts.5Natural Gas,Weighted Average Price ($/MMBTU)</th>\n",
       "      <th>Swap Contracts.9Crude Oil,Volume (Bbl)</th>\n",
       "      <th>Swap Contracts.13Crude Oil,Weighted Average Price ($/Bbl)</th>\n",
       "    </tr>\n",
       "  </thead>\n",
       "  <tbody>\n",
       "    <tr>\n",
       "      <th>2</th>\n",
       "      <td>2011.0</td>\n",
       "      <td>764820</td>\n",
       "      <td>8.22</td>\n",
       "      <td>240336</td>\n",
       "      <td>86.55</td>\n",
       "    </tr>\n",
       "    <tr>\n",
       "      <th>3</th>\n",
       "      <td>2012.0</td>\n",
       "      <td>174222</td>\n",
       "      <td>8.65</td>\n",
       "      <td>127473</td>\n",
       "      <td>82.37</td>\n",
       "    </tr>\n",
       "    <tr>\n",
       "      <th>4</th>\n",
       "      <td>2013.0</td>\n",
       "      <td>-</td>\n",
       "      <td>-</td>\n",
       "      <td>89400</td>\n",
       "      <td>85.15</td>\n",
       "    </tr>\n",
       "    <tr>\n",
       "      <th>5</th>\n",
       "      <td>2014.0</td>\n",
       "      <td>-</td>\n",
       "      <td>-</td>\n",
       "      <td>66000</td>\n",
       "      <td>86.95</td>\n",
       "    </tr>\n",
       "  </tbody>\n",
       "</table>\n",
       "</div>"
      ],
      "text/plain": [
       "        , Swap Contracts.1Natural Gas,Volume (MMBTU) ( )  \\\n",
       "2  2011.0                                         764820   \n",
       "3  2012.0                                         174222   \n",
       "4  2013.0                                              -   \n",
       "5  2014.0                                              -   \n",
       "\n",
       "  Swap Contracts.5Natural Gas,Weighted Average Price ($/MMBTU)  \\\n",
       "2                                               8.22             \n",
       "3                                               8.65             \n",
       "4                                                  -             \n",
       "5                                                  -             \n",
       "\n",
       "  Swap Contracts.9Crude Oil,Volume (Bbl)  \\\n",
       "2                                 240336   \n",
       "3                                 127473   \n",
       "4                                  89400   \n",
       "5                                  66000   \n",
       "\n",
       "  Swap Contracts.13Crude Oil,Weighted Average Price ($/Bbl)  \n",
       "2                                              86.55         \n",
       "3                                              82.37         \n",
       "4                                              85.15         \n",
       "5                                              86.95         "
      ]
     },
     "execution_count": 12,
     "metadata": {},
     "output_type": "execute_result"
    },
    {
     "data": {
      "text/html": [
       "<div>\n",
       "<style scoped>\n",
       "    .dataframe tbody tr th:only-of-type {\n",
       "        vertical-align: middle;\n",
       "    }\n",
       "\n",
       "    .dataframe tbody tr th {\n",
       "        vertical-align: top;\n",
       "    }\n",
       "\n",
       "    .dataframe thead th {\n",
       "        text-align: right;\n",
       "    }\n",
       "</style>\n",
       "<table border=\"1\" class=\"dataframe\">\n",
       "  <thead>\n",
       "    <tr style=\"text-align: right;\">\n",
       "      <th></th>\n",
       "      <th>,</th>\n",
       "      <th>Swap Contracts.1Natural Gas,Volume (MMBTU) ( )</th>\n",
       "      <th>Swap Contracts.5Natural Gas,Weighted Average Price ($/MMBTU)</th>\n",
       "      <th>Swap Contracts.9Crude Oil,Volume (Bbl)</th>\n",
       "      <th>Swap Contracts.13Crude Oil,Weighted Average Price ($/Bbl)</th>\n",
       "    </tr>\n",
       "  </thead>\n",
       "  <tbody>\n",
       "    <tr>\n",
       "      <th>2</th>\n",
       "      <td>2011.0</td>\n",
       "      <td>764820</td>\n",
       "      <td>8.22</td>\n",
       "      <td>240336</td>\n",
       "      <td>86.55</td>\n",
       "    </tr>\n",
       "    <tr>\n",
       "      <th>3</th>\n",
       "      <td>2012.0</td>\n",
       "      <td>174222</td>\n",
       "      <td>8.65</td>\n",
       "      <td>127473</td>\n",
       "      <td>82.37</td>\n",
       "    </tr>\n",
       "    <tr>\n",
       "      <th>4</th>\n",
       "      <td>2013.0</td>\n",
       "      <td>-</td>\n",
       "      <td>-</td>\n",
       "      <td>89400</td>\n",
       "      <td>85.15</td>\n",
       "    </tr>\n",
       "    <tr>\n",
       "      <th>5</th>\n",
       "      <td>2014.0</td>\n",
       "      <td>-</td>\n",
       "      <td>-</td>\n",
       "      <td>66000</td>\n",
       "      <td>86.95</td>\n",
       "    </tr>\n",
       "  </tbody>\n",
       "</table>\n",
       "</div>"
      ],
      "text/plain": [
       "        , Swap Contracts.1Natural Gas,Volume (MMBTU) ( )  \\\n",
       "2  2011.0                                         764820   \n",
       "3  2012.0                                         174222   \n",
       "4  2013.0                                              -   \n",
       "5  2014.0                                              -   \n",
       "\n",
       "  Swap Contracts.5Natural Gas,Weighted Average Price ($/MMBTU)  \\\n",
       "2                                               8.22             \n",
       "3                                               8.65             \n",
       "4                                                  -             \n",
       "5                                                  -             \n",
       "\n",
       "  Swap Contracts.9Crude Oil,Volume (Bbl)  \\\n",
       "2                                 240336   \n",
       "3                                 127473   \n",
       "4                                  89400   \n",
       "5                                  66000   \n",
       "\n",
       "  Swap Contracts.13Crude Oil,Weighted Average Price ($/Bbl)  \n",
       "2                                              86.55         \n",
       "3                                              82.37         \n",
       "4                                              85.15         \n",
       "5                                              86.95         "
      ]
     },
     "execution_count": 12,
     "metadata": {},
     "output_type": "execute_result"
    }
   ],
   "source": [
    "# four sets of duplicated dataframe\n",
    "subdict['ISRL20110311'][0]\n",
    "subdict['ISRL20110311'][4]\n"
   ]
  },
  {
   "cell_type": "code",
   "execution_count": 13,
   "metadata": {
    "ExecuteTime": {
     "end_time": "2019-08-14T20:52:14.741504Z",
     "start_time": "2019-08-14T20:52:14.727985Z"
    }
   },
   "outputs": [
    {
     "data": {
      "text/plain": [
       "2"
      ]
     },
     "execution_count": 13,
     "metadata": {},
     "output_type": "execute_result"
    },
    {
     "data": {
      "text/plain": [
       "6"
      ]
     },
     "execution_count": 13,
     "metadata": {},
     "output_type": "execute_result"
    },
    {
     "data": {
      "text/plain": [
       "8"
      ]
     },
     "execution_count": 13,
     "metadata": {},
     "output_type": "execute_result"
    }
   ],
   "source": [
    "len(subdict['ISRL20090323'])\n",
    "len(subdict['ISRL20100312'])\n",
    "len(subdict['ISRL20110311'])"
   ]
  },
  {
   "cell_type": "code",
   "execution_count": 14,
   "metadata": {
    "ExecuteTime": {
     "end_time": "2019-08-14T20:52:14.754078Z",
     "start_time": "2019-08-14T20:52:14.744743Z"
    }
   },
   "outputs": [],
   "source": [
    "def delete_duplicated(subdict):\n",
    "    '''\n",
    "    subdict: dictionary with file_header as keys and list of dataframes as values\n",
    "    This function removes any duplicated dataframe within the same key\n",
    "    '''\n",
    "    from itertools import combinations\n",
    "    from collections import defaultdict\n",
    "    import pandas as pd\n",
    "    deleted_df = defaultdict(list) # Initialize a dictionary with list as values to house the indices\n",
    "    for k in subdict.keys():\n",
    "        target_list = subdict[k]\n",
    "        combo_list = list(combinations(range(len(target_list)),2)) # Extract distinct combinations of indices\n",
    "        duplicated_index = []\n",
    "        for df1_index, df2_index in combo_list:\n",
    "            if isinstance(target_list[df1_index], pd.DataFrame) & isinstance(target_list[df2_index], pd.DataFrame): # Assert that we are comparing two dataframes\n",
    "                if target_list[df1_index].equals(target_list[df2_index]): # Checks if two dataframes are equal\n",
    "                    duplicated_index.append(df2_index)\n",
    "        to_be_del = list(set(duplicated_index)) # Remove duplicated indices in case there are >2 identical dataframes\n",
    "        to_be_del.sort(reverse=True) # We want to remove the dataframes backward to not mess up with the indices\n",
    "        for index in to_be_del:\n",
    "            del target_list[index]\n",
    "            deleted_df[k].append(index) # Save the deleted dataframe as dictionary with file_header as keys and list of respective indices as values\n",
    "    return deleted_df"
   ]
  },
  {
   "cell_type": "code",
   "execution_count": 15,
   "metadata": {
    "ExecuteTime": {
     "end_time": "2019-08-14T20:52:14.764519Z",
     "start_time": "2019-08-14T20:52:14.756654Z"
    }
   },
   "outputs": [
    {
     "data": {
      "text/plain": [
       "defaultdict(list,\n",
       "            {'ISRL20090323': [1],\n",
       "             'ISRL20100312': [5, 4, 3],\n",
       "             'ISRL20110311': [7, 6, 5, 4]})"
      ]
     },
     "execution_count": 15,
     "metadata": {},
     "output_type": "execute_result"
    }
   ],
   "source": [
    "delete_duplicated(subdict)"
   ]
  },
  {
   "cell_type": "code",
   "execution_count": 16,
   "metadata": {
    "ExecuteTime": {
     "end_time": "2019-08-14T20:52:14.777447Z",
     "start_time": "2019-08-14T20:52:14.767415Z"
    }
   },
   "outputs": [
    {
     "data": {
      "text/plain": [
       "1"
      ]
     },
     "execution_count": 16,
     "metadata": {},
     "output_type": "execute_result"
    },
    {
     "data": {
      "text/plain": [
       "3"
      ]
     },
     "execution_count": 16,
     "metadata": {},
     "output_type": "execute_result"
    },
    {
     "data": {
      "text/plain": [
       "4"
      ]
     },
     "execution_count": 16,
     "metadata": {},
     "output_type": "execute_result"
    }
   ],
   "source": [
    "len(subdict['ISRL20090323'])\n",
    "len(subdict['ISRL20100312'])\n",
    "len(subdict['ISRL20110311'])"
   ]
  },
  {
   "cell_type": "markdown",
   "metadata": {},
   "source": [
    "# Delete subset dataframes"
   ]
  },
  {
   "cell_type": "code",
   "execution_count": 17,
   "metadata": {
    "ExecuteTime": {
     "end_time": "2019-08-14T20:52:14.818944Z",
     "start_time": "2019-08-14T20:52:14.780093Z"
    }
   },
   "outputs": [
    {
     "data": {
      "text/html": [
       "<div>\n",
       "<style scoped>\n",
       "    .dataframe tbody tr th:only-of-type {\n",
       "        vertical-align: middle;\n",
       "    }\n",
       "\n",
       "    .dataframe tbody tr th {\n",
       "        vertical-align: top;\n",
       "    }\n",
       "\n",
       "    .dataframe thead th {\n",
       "        text-align: right;\n",
       "    }\n",
       "</style>\n",
       "<table border=\"1\" class=\"dataframe\">\n",
       "  <thead>\n",
       "    <tr style=\"text-align: right;\">\n",
       "      <th></th>\n",
       "      <th>,</th>\n",
       "      <th>Swap  Contracts.1Natural Gas,Volume (MMBTU) ( )</th>\n",
       "      <th>Swap  Contracts.5Natural Gas,Weighted Average Price ($/MMBTU)</th>\n",
       "      <th>Swap  Contracts.9Crude Oil,Volume (Bbl)</th>\n",
       "      <th>Swap  Contracts.13Crude Oil,Weighted Average Price ($/Bbl)</th>\n",
       "    </tr>\n",
       "  </thead>\n",
       "  <tbody>\n",
       "    <tr>\n",
       "      <th>2</th>\n",
       "      <td>2010.0</td>\n",
       "      <td>1785648</td>\n",
       "      <td>7.88</td>\n",
       "      <td>254868</td>\n",
       "      <td>79.59</td>\n",
       "    </tr>\n",
       "    <tr>\n",
       "      <th>3</th>\n",
       "      <td>2011.0</td>\n",
       "      <td>764820</td>\n",
       "      <td>8.22</td>\n",
       "      <td>240336</td>\n",
       "      <td>86.55</td>\n",
       "    </tr>\n",
       "    <tr>\n",
       "      <th>4</th>\n",
       "      <td>2012.0</td>\n",
       "      <td>174222</td>\n",
       "      <td>8.65</td>\n",
       "      <td>127473</td>\n",
       "      <td>82.37</td>\n",
       "    </tr>\n",
       "    <tr>\n",
       "      <th>5</th>\n",
       "      <td>2013.0</td>\n",
       "      <td>-</td>\n",
       "      <td>-</td>\n",
       "      <td>89400</td>\n",
       "      <td>85.15</td>\n",
       "    </tr>\n",
       "    <tr>\n",
       "      <th>6</th>\n",
       "      <td>2014.0</td>\n",
       "      <td>-</td>\n",
       "      <td>-</td>\n",
       "      <td>66000</td>\n",
       "      <td>86.95</td>\n",
       "    </tr>\n",
       "  </tbody>\n",
       "</table>\n",
       "</div>"
      ],
      "text/plain": [
       "        , Swap  Contracts.1Natural Gas,Volume (MMBTU) ( )  \\\n",
       "2  2010.0                                         1785648   \n",
       "3  2011.0                                          764820   \n",
       "4  2012.0                                          174222   \n",
       "5  2013.0                                               -   \n",
       "6  2014.0                                               -   \n",
       "\n",
       "  Swap  Contracts.5Natural Gas,Weighted Average Price ($/MMBTU)  \\\n",
       "2                                               7.88              \n",
       "3                                               8.22              \n",
       "4                                               8.65              \n",
       "5                                                  -              \n",
       "6                                                  -              \n",
       "\n",
       "  Swap  Contracts.9Crude Oil,Volume (Bbl)  \\\n",
       "2                                  254868   \n",
       "3                                  240336   \n",
       "4                                  127473   \n",
       "5                                   89400   \n",
       "6                                   66000   \n",
       "\n",
       "  Swap  Contracts.13Crude Oil,Weighted Average Price ($/Bbl)  \n",
       "2                                              79.59          \n",
       "3                                              86.55          \n",
       "4                                              82.37          \n",
       "5                                              85.15          \n",
       "6                                              86.95          "
      ]
     },
     "execution_count": 17,
     "metadata": {},
     "output_type": "execute_result"
    },
    {
     "data": {
      "text/html": [
       "<div>\n",
       "<style scoped>\n",
       "    .dataframe tbody tr th:only-of-type {\n",
       "        vertical-align: middle;\n",
       "    }\n",
       "\n",
       "    .dataframe tbody tr th {\n",
       "        vertical-align: top;\n",
       "    }\n",
       "\n",
       "    .dataframe thead th {\n",
       "        text-align: right;\n",
       "    }\n",
       "</style>\n",
       "<table border=\"1\" class=\"dataframe\">\n",
       "  <thead>\n",
       "    <tr style=\"text-align: right;\">\n",
       "      <th></th>\n",
       "      <th>Period</th>\n",
       "      <th>Swaps.1Volume in MMbtu s</th>\n",
       "      <th>Swaps.5Price / Price Range</th>\n",
       "      <th>Swaps.9Weighted Average Price</th>\n",
       "    </tr>\n",
       "  </thead>\n",
       "  <tbody>\n",
       "    <tr>\n",
       "      <th>1</th>\n",
       "      <td>January 2010 December 2010</td>\n",
       "      <td>1785648</td>\n",
       "      <td>$7.49|8.32</td>\n",
       "      <td>$7.88</td>\n",
       "    </tr>\n",
       "    <tr>\n",
       "      <th>2</th>\n",
       "      <td>January 2011 December 2011</td>\n",
       "      <td>764820</td>\n",
       "      <td>8.22</td>\n",
       "      <td>8.22</td>\n",
       "    </tr>\n",
       "    <tr>\n",
       "      <th>3</th>\n",
       "      <td>January 2012 March 2012</td>\n",
       "      <td>174222</td>\n",
       "      <td>8.65</td>\n",
       "      <td>8.65</td>\n",
       "    </tr>\n",
       "  </tbody>\n",
       "</table>\n",
       "</div>"
      ],
      "text/plain": [
       "                       Period Swaps.1Volume in MMbtu s  \\\n",
       "1  January 2010 December 2010                  1785648   \n",
       "2  January 2011 December 2011                   764820   \n",
       "3     January 2012 March 2012                   174222   \n",
       "\n",
       "  Swaps.5Price / Price Range Swaps.9Weighted Average Price  \n",
       "1                 $7.49|8.32                         $7.88  \n",
       "2                       8.22                          8.22  \n",
       "3                       8.65                          8.65  "
      ]
     },
     "execution_count": 17,
     "metadata": {},
     "output_type": "execute_result"
    },
    {
     "data": {
      "text/html": [
       "<div>\n",
       "<style scoped>\n",
       "    .dataframe tbody tr th:only-of-type {\n",
       "        vertical-align: middle;\n",
       "    }\n",
       "\n",
       "    .dataframe tbody tr th {\n",
       "        vertical-align: top;\n",
       "    }\n",
       "\n",
       "    .dataframe thead th {\n",
       "        text-align: right;\n",
       "    }\n",
       "</style>\n",
       "<table border=\"1\" class=\"dataframe\">\n",
       "  <thead>\n",
       "    <tr style=\"text-align: right;\">\n",
       "      <th></th>\n",
       "      <th>Period</th>\n",
       "      <th>Swaps.1Volume in Bbls</th>\n",
       "      <th>Swaps.5Price / Price Range</th>\n",
       "      <th>Swaps.9Weighted Average Price</th>\n",
       "    </tr>\n",
       "  </thead>\n",
       "  <tbody>\n",
       "    <tr>\n",
       "      <th>1</th>\n",
       "      <td>January 2010 December 2010</td>\n",
       "      <td>254868</td>\n",
       "      <td>63.30|101.70</td>\n",
       "      <td>79.59</td>\n",
       "    </tr>\n",
       "    <tr>\n",
       "      <th>2</th>\n",
       "      <td>January 2011 December 2011</td>\n",
       "      <td>240336</td>\n",
       "      <td>79.50|91.05</td>\n",
       "      <td>86.55</td>\n",
       "    </tr>\n",
       "    <tr>\n",
       "      <th>3</th>\n",
       "      <td>January 2012 December 2012</td>\n",
       "      <td>127473</td>\n",
       "      <td>80.20|88.20</td>\n",
       "      <td>82.37</td>\n",
       "    </tr>\n",
       "    <tr>\n",
       "      <th>4</th>\n",
       "      <td>January 2013 December 2013</td>\n",
       "      <td>89400</td>\n",
       "      <td>85.15</td>\n",
       "      <td>85.15</td>\n",
       "    </tr>\n",
       "    <tr>\n",
       "      <th>5</th>\n",
       "      <td>January 2014 December 2014</td>\n",
       "      <td>66000</td>\n",
       "      <td>86.95</td>\n",
       "      <td>86.95</td>\n",
       "    </tr>\n",
       "  </tbody>\n",
       "</table>\n",
       "</div>"
      ],
      "text/plain": [
       "                       Period Swaps.1Volume in Bbls  \\\n",
       "1  January 2010 December 2010                254868   \n",
       "2  January 2011 December 2011                240336   \n",
       "3  January 2012 December 2012                127473   \n",
       "4  January 2013 December 2013                 89400   \n",
       "5  January 2014 December 2014                 66000   \n",
       "\n",
       "  Swaps.5Price / Price Range Swaps.9Weighted Average Price  \n",
       "1               63.30|101.70                         79.59  \n",
       "2                79.50|91.05                         86.55  \n",
       "3                80.20|88.20                         82.37  \n",
       "4                      85.15                         85.15  \n",
       "5                      86.95                         86.95  "
      ]
     },
     "execution_count": 17,
     "metadata": {},
     "output_type": "execute_result"
    }
   ],
   "source": [
    "subdict['ISRL20100312'][0]\n",
    "subdict['ISRL20100312'][1]\n",
    "subdict['ISRL20100312'][2]"
   ]
  },
  {
   "cell_type": "code",
   "execution_count": 18,
   "metadata": {
    "ExecuteTime": {
     "end_time": "2019-08-14T20:52:14.850007Z",
     "start_time": "2019-08-14T20:52:14.822361Z"
    }
   },
   "outputs": [
    {
     "data": {
      "text/html": [
       "<div>\n",
       "<style scoped>\n",
       "    .dataframe tbody tr th:only-of-type {\n",
       "        vertical-align: middle;\n",
       "    }\n",
       "\n",
       "    .dataframe tbody tr th {\n",
       "        vertical-align: top;\n",
       "    }\n",
       "\n",
       "    .dataframe thead th {\n",
       "        text-align: right;\n",
       "    }\n",
       "</style>\n",
       "<table border=\"1\" class=\"dataframe\">\n",
       "  <thead>\n",
       "    <tr style=\"text-align: right;\">\n",
       "      <th></th>\n",
       "      <th>,</th>\n",
       "      <th>Swap Contracts.1Natural Gas,Volume (MMBTU) ( )</th>\n",
       "      <th>Swap Contracts.5Natural Gas,Weighted Average Price ($/MMBTU)</th>\n",
       "      <th>Swap Contracts.9Crude Oil,Volume (Bbl)</th>\n",
       "      <th>Swap Contracts.13Crude Oil,Weighted Average Price ($/Bbl)</th>\n",
       "    </tr>\n",
       "  </thead>\n",
       "  <tbody>\n",
       "    <tr>\n",
       "      <th>2</th>\n",
       "      <td>2011.0</td>\n",
       "      <td>764820</td>\n",
       "      <td>8.22</td>\n",
       "      <td>240336</td>\n",
       "      <td>86.55</td>\n",
       "    </tr>\n",
       "    <tr>\n",
       "      <th>3</th>\n",
       "      <td>2012.0</td>\n",
       "      <td>174222</td>\n",
       "      <td>8.65</td>\n",
       "      <td>127473</td>\n",
       "      <td>82.37</td>\n",
       "    </tr>\n",
       "    <tr>\n",
       "      <th>4</th>\n",
       "      <td>2013.0</td>\n",
       "      <td>-</td>\n",
       "      <td>-</td>\n",
       "      <td>89400</td>\n",
       "      <td>85.15</td>\n",
       "    </tr>\n",
       "    <tr>\n",
       "      <th>5</th>\n",
       "      <td>2014.0</td>\n",
       "      <td>-</td>\n",
       "      <td>-</td>\n",
       "      <td>66000</td>\n",
       "      <td>86.95</td>\n",
       "    </tr>\n",
       "  </tbody>\n",
       "</table>\n",
       "</div>"
      ],
      "text/plain": [
       "        , Swap Contracts.1Natural Gas,Volume (MMBTU) ( )  \\\n",
       "2  2011.0                                         764820   \n",
       "3  2012.0                                         174222   \n",
       "4  2013.0                                              -   \n",
       "5  2014.0                                              -   \n",
       "\n",
       "  Swap Contracts.5Natural Gas,Weighted Average Price ($/MMBTU)  \\\n",
       "2                                               8.22             \n",
       "3                                               8.65             \n",
       "4                                                  -             \n",
       "5                                                  -             \n",
       "\n",
       "  Swap Contracts.9Crude Oil,Volume (Bbl)  \\\n",
       "2                                 240336   \n",
       "3                                 127473   \n",
       "4                                  89400   \n",
       "5                                  66000   \n",
       "\n",
       "  Swap Contracts.13Crude Oil,Weighted Average Price ($/Bbl)  \n",
       "2                                              86.55         \n",
       "3                                              82.37         \n",
       "4                                              85.15         \n",
       "5                                              86.95         "
      ]
     },
     "execution_count": 18,
     "metadata": {},
     "output_type": "execute_result"
    },
    {
     "data": {
      "text/html": [
       "<div>\n",
       "<style scoped>\n",
       "    .dataframe tbody tr th:only-of-type {\n",
       "        vertical-align: middle;\n",
       "    }\n",
       "\n",
       "    .dataframe tbody tr th {\n",
       "        vertical-align: top;\n",
       "    }\n",
       "\n",
       "    .dataframe thead th {\n",
       "        text-align: right;\n",
       "    }\n",
       "</style>\n",
       "<table border=\"1\" class=\"dataframe\">\n",
       "  <thead>\n",
       "    <tr style=\"text-align: right;\">\n",
       "      <th></th>\n",
       "      <th>Period</th>\n",
       "      <th>Swaps.1Volume in MMbtu s</th>\n",
       "      <th>Swaps.5Price / Price Range</th>\n",
       "      <th>Swaps.9Weighted Average Price</th>\n",
       "    </tr>\n",
       "  </thead>\n",
       "  <tbody>\n",
       "    <tr>\n",
       "      <th>1</th>\n",
       "      <td>January 2011 December 2011</td>\n",
       "      <td>764820</td>\n",
       "      <td>8.22</td>\n",
       "      <td>8.22</td>\n",
       "    </tr>\n",
       "    <tr>\n",
       "      <th>2</th>\n",
       "      <td>January 2012 March 2012</td>\n",
       "      <td>174222</td>\n",
       "      <td>8.65</td>\n",
       "      <td>8.65</td>\n",
       "    </tr>\n",
       "  </tbody>\n",
       "</table>\n",
       "</div>"
      ],
      "text/plain": [
       "                       Period Swaps.1Volume in MMbtu s  \\\n",
       "1  January 2011 December 2011                   764820   \n",
       "2     January 2012 March 2012                   174222   \n",
       "\n",
       "  Swaps.5Price / Price Range Swaps.9Weighted Average Price  \n",
       "1                       8.22                          8.22  \n",
       "2                       8.65                          8.65  "
      ]
     },
     "execution_count": 18,
     "metadata": {},
     "output_type": "execute_result"
    },
    {
     "data": {
      "text/html": [
       "<div>\n",
       "<style scoped>\n",
       "    .dataframe tbody tr th:only-of-type {\n",
       "        vertical-align: middle;\n",
       "    }\n",
       "\n",
       "    .dataframe tbody tr th {\n",
       "        vertical-align: top;\n",
       "    }\n",
       "\n",
       "    .dataframe thead th {\n",
       "        text-align: right;\n",
       "    }\n",
       "</style>\n",
       "<table border=\"1\" class=\"dataframe\">\n",
       "  <thead>\n",
       "    <tr style=\"text-align: right;\">\n",
       "      <th></th>\n",
       "      <th>Period</th>\n",
       "      <th>Swaps.1Volume in Bbls</th>\n",
       "      <th>Swaps.5Price / Price Range</th>\n",
       "      <th>Swaps.9Weighted Average Price</th>\n",
       "    </tr>\n",
       "  </thead>\n",
       "  <tbody>\n",
       "    <tr>\n",
       "      <th>1</th>\n",
       "      <td>January 2011 December 2011</td>\n",
       "      <td>240336</td>\n",
       "      <td>79.50|91.05</td>\n",
       "      <td>86.55</td>\n",
       "    </tr>\n",
       "    <tr>\n",
       "      <th>2</th>\n",
       "      <td>January 2012 December 2012</td>\n",
       "      <td>127473</td>\n",
       "      <td>80.20|88.20</td>\n",
       "      <td>82.37</td>\n",
       "    </tr>\n",
       "    <tr>\n",
       "      <th>3</th>\n",
       "      <td>January 2013 December 2013</td>\n",
       "      <td>89400</td>\n",
       "      <td>85.15</td>\n",
       "      <td>85.15</td>\n",
       "    </tr>\n",
       "    <tr>\n",
       "      <th>4</th>\n",
       "      <td>January 2014 December 2014</td>\n",
       "      <td>66000</td>\n",
       "      <td>86.95</td>\n",
       "      <td>86.95</td>\n",
       "    </tr>\n",
       "  </tbody>\n",
       "</table>\n",
       "</div>"
      ],
      "text/plain": [
       "                       Period Swaps.1Volume in Bbls  \\\n",
       "1  January 2011 December 2011                240336   \n",
       "2  January 2012 December 2012                127473   \n",
       "3  January 2013 December 2013                 89400   \n",
       "4  January 2014 December 2014                 66000   \n",
       "\n",
       "  Swaps.5Price / Price Range Swaps.9Weighted Average Price  \n",
       "1                79.50|91.05                         86.55  \n",
       "2                80.20|88.20                         82.37  \n",
       "3                      85.15                         85.15  \n",
       "4                      86.95                         86.95  "
      ]
     },
     "execution_count": 18,
     "metadata": {},
     "output_type": "execute_result"
    }
   ],
   "source": [
    "subdict['ISRL20110311'][0]\n",
    "subdict['ISRL20110311'][1]\n",
    "subdict['ISRL20110311'][2]"
   ]
  },
  {
   "cell_type": "code",
   "execution_count": 19,
   "metadata": {
    "ExecuteTime": {
     "end_time": "2019-08-14T20:52:14.864376Z",
     "start_time": "2019-08-14T20:52:14.852374Z"
    }
   },
   "outputs": [],
   "source": [
    "def extract_subset_tables(dictionary):\n",
    "    \"\"\"\n",
    "    This function extracts subset dataframes (both column-wise and row_wise),\n",
    "    and append those into a list.\n",
    "    \n",
    "    dictionary: dictionary with file_header as keys and list of dataframes as values\n",
    "    \"\"\"\n",
    "    import re\n",
    "    from itertools import chain, permutations\n",
    "    company_list = [] \n",
    "    subset_df_list = [] # To store the subset dataframes\n",
    "    for keys in dictionary.keys():\n",
    "        company_list.append(keys)\n",
    "    trim_company_set = {re.sub('[0-9]', '', company) for company in company_list} # Extract unique company tickers\n",
    "    for company in trim_company_set:\n",
    "        subdict = {k: v for k, v in dictionary.items() if k.startswith(company)} # Dictionary comprehension for each ticker\n",
    "        tables_within_a_company = list(chain.from_iterable(subdict.values())) # Flatten list of list\n",
    "        combo_list = list(permutations(range(len(tables_within_a_company)),2)) # Use permutations here because sequence is important to compare subsets\n",
    "        subset_index = []\n",
    "        for df1_index, df2_index in combo_list:\n",
    "            if isinstance(tables_within_a_company[df1_index], pd.DataFrame) & isinstance(tables_within_a_company[df1_index], pd.DataFrame):\n",
    "                df1_set = {x for x in (tables_within_a_company[df1_index].to_numpy().flatten()) if pd.notna(x) & (x != '')}\n",
    "                df2_set = {x for x in (tables_within_a_company[df2_index].to_numpy().flatten()) if pd.notna(x) & (x != '')} # Flatten a dataframe to get unique cell values (Might leads to data loss, but unlikely)\n",
    "                if df1_set.issubset(df2_set):\n",
    "                    subset_index.append(df1_index)\n",
    "        to_be_del = list(set(subset_index))\n",
    "        for index in to_be_del:\n",
    "            subset_df_list.append(tables_within_a_company[index])\n",
    "    return subset_df_list"
   ]
  },
  {
   "cell_type": "code",
   "execution_count": 20,
   "metadata": {
    "ExecuteTime": {
     "end_time": "2019-08-14T20:52:14.872884Z",
     "start_time": "2019-08-14T20:52:14.866492Z"
    }
   },
   "outputs": [],
   "source": [
    "def remove_subset_tables(dictionary, list_subset_tables):\n",
    "    '''\n",
    "    This function removes dataframes that are subset of other dataframes within the same ticker,\n",
    "    outputs a dictionary indicating deleted tickers and respective indices.\n",
    "    '''\n",
    "    from collections import defaultdict\n",
    "    deleted_df = defaultdict(list) # Initialize a dictionary with list as values to house the indices\n",
    "    for k in dictionary.keys():\n",
    "        target_list = dictionary[k]\n",
    "        duplicated_index = []\n",
    "        for index in range(len(target_list)):\n",
    "            for subset_df in list_subset_tables:\n",
    "                if isinstance(target_list[index], pd.DataFrame):\n",
    "                    if target_list[index].equals(subset_df): # Compare if the dataframes matches the subset dataframes\n",
    "                        duplicated_index.append(index)              \n",
    "        to_be_del = list(set(duplicated_index)) # Remove duplicated indices in case there are >2 identical dataframes\n",
    "        to_be_del.sort(reverse=True) # We want to remove the dataframes backward to not mess up with the indices\n",
    "        for index in to_be_del:\n",
    "            del target_list[index]\n",
    "            deleted_df[k].append(index) # Save the deleted dataframes as dictionary with file_header as keys and list of respective indices as values\n",
    "    return deleted_df"
   ]
  },
  {
   "cell_type": "code",
   "execution_count": 21,
   "metadata": {
    "ExecuteTime": {
     "end_time": "2019-08-14T20:52:14.883612Z",
     "start_time": "2019-08-14T20:52:14.875031Z"
    }
   },
   "outputs": [
    {
     "data": {
      "text/plain": [
       "defaultdict(list, {'ISRL20110311': [2, 1, 0]})"
      ]
     },
     "execution_count": 21,
     "metadata": {},
     "output_type": "execute_result"
    }
   ],
   "source": [
    "remove_subset_tables(subdict, extract_subset_tables(subdict))"
   ]
  }
 ],
 "metadata": {
  "hide_input": false,
  "kernelspec": {
   "display_name": "Python 3",
   "language": "python",
   "name": "python3"
  },
  "language_info": {
   "codemirror_mode": {
    "name": "ipython",
    "version": 3
   },
   "file_extension": ".py",
   "mimetype": "text/x-python",
   "name": "python",
   "nbconvert_exporter": "python",
   "pygments_lexer": "ipython3",
   "version": "3.7.3"
  },
  "toc": {
   "base_numbering": 1,
   "nav_menu": {},
   "number_sections": true,
   "sideBar": true,
   "skip_h1_title": false,
   "title_cell": "Table of Contents",
   "title_sidebar": "Contents",
   "toc_cell": false,
   "toc_position": {},
   "toc_section_display": true,
   "toc_window_display": false
  }
 },
 "nbformat": 4,
 "nbformat_minor": 2
}
