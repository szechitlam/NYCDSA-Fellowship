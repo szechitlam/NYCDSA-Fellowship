{
 "cells": [
  {
   "cell_type": "code",
   "execution_count": 1,
   "metadata": {
    "ExecuteTime": {
     "end_time": "2019-08-14T03:30:43.264906Z",
     "start_time": "2019-08-14T03:30:42.825726Z"
    }
   },
   "outputs": [],
   "source": [
    "import pickle\n",
    "import pandas as pd\n",
    "import numpy as np\n",
    "from itertools import groupby\n",
    "\n",
    "from zlu_functions import *\n",
    "from nel_functions import *\n",
    "from helper import *\n",
    "\n",
    "from IPython.core.interactiveshell import InteractiveShell\n",
    "InteractiveShell.ast_node_interactivity = 'all'"
   ]
  },
  {
   "cell_type": "code",
   "execution_count": 2,
   "metadata": {
    "ExecuteTime": {
     "end_time": "2019-08-14T03:30:43.274093Z",
     "start_time": "2019-08-14T03:30:43.267411Z"
    }
   },
   "outputs": [],
   "source": [
    "problematic0 = pd.DataFrame(\n",
    "    {\n",
    "    'damn' : ['date', ''     , ''     , ''     , 2, 3, ''     , ''     , 5, 5, ''     , 33],\n",
    "    'damn1': [1     , 'shitA', 'shitD', 'shitG', 2, 4, 'shitG', 'shitG', 3, 6, 'shitG', 33],\n",
    "    'damn2': [1     , 'shitB', 'shitE', 'shitH', 2, 3, 'shitH', 'shitH', 2, 7, 'shitG', 33],\n",
    "    'damn3': [1     , 'shitC', 'shitF', 'shitI', 2, 3, 'shitI', 'shitI', 3, 8, 'shitG', 33]\n",
    "    }\n",
    ")"
   ]
  },
  {
   "cell_type": "code",
   "execution_count": 3,
   "metadata": {
    "ExecuteTime": {
     "end_time": "2019-08-14T03:30:43.305591Z",
     "start_time": "2019-08-14T03:30:43.276662Z"
    }
   },
   "outputs": [
    {
     "data": {
      "text/html": [
       "<div>\n",
       "<style scoped>\n",
       "    .dataframe tbody tr th:only-of-type {\n",
       "        vertical-align: middle;\n",
       "    }\n",
       "\n",
       "    .dataframe tbody tr th {\n",
       "        vertical-align: top;\n",
       "    }\n",
       "\n",
       "    .dataframe thead th {\n",
       "        text-align: right;\n",
       "    }\n",
       "</style>\n",
       "<table border=\"1\" class=\"dataframe\">\n",
       "  <thead>\n",
       "    <tr style=\"text-align: right;\">\n",
       "      <th></th>\n",
       "      <th>damn</th>\n",
       "      <th>damn1</th>\n",
       "      <th>damn2</th>\n",
       "      <th>damn3</th>\n",
       "    </tr>\n",
       "  </thead>\n",
       "  <tbody>\n",
       "    <tr>\n",
       "      <th>0</th>\n",
       "      <td>date</td>\n",
       "      <td>1</td>\n",
       "      <td>1</td>\n",
       "      <td>1</td>\n",
       "    </tr>\n",
       "    <tr>\n",
       "      <th>1</th>\n",
       "      <td></td>\n",
       "      <td>shitA</td>\n",
       "      <td>shitB</td>\n",
       "      <td>shitC</td>\n",
       "    </tr>\n",
       "    <tr>\n",
       "      <th>2</th>\n",
       "      <td></td>\n",
       "      <td>shitD</td>\n",
       "      <td>shitE</td>\n",
       "      <td>shitF</td>\n",
       "    </tr>\n",
       "    <tr>\n",
       "      <th>3</th>\n",
       "      <td></td>\n",
       "      <td>shitG</td>\n",
       "      <td>shitH</td>\n",
       "      <td>shitI</td>\n",
       "    </tr>\n",
       "    <tr>\n",
       "      <th>4</th>\n",
       "      <td>2</td>\n",
       "      <td>2</td>\n",
       "      <td>2</td>\n",
       "      <td>2</td>\n",
       "    </tr>\n",
       "    <tr>\n",
       "      <th>5</th>\n",
       "      <td>3</td>\n",
       "      <td>4</td>\n",
       "      <td>3</td>\n",
       "      <td>3</td>\n",
       "    </tr>\n",
       "    <tr>\n",
       "      <th>6</th>\n",
       "      <td></td>\n",
       "      <td>shitG</td>\n",
       "      <td>shitH</td>\n",
       "      <td>shitI</td>\n",
       "    </tr>\n",
       "    <tr>\n",
       "      <th>7</th>\n",
       "      <td></td>\n",
       "      <td>shitG</td>\n",
       "      <td>shitH</td>\n",
       "      <td>shitI</td>\n",
       "    </tr>\n",
       "    <tr>\n",
       "      <th>8</th>\n",
       "      <td>5</td>\n",
       "      <td>3</td>\n",
       "      <td>2</td>\n",
       "      <td>3</td>\n",
       "    </tr>\n",
       "    <tr>\n",
       "      <th>9</th>\n",
       "      <td>5</td>\n",
       "      <td>6</td>\n",
       "      <td>7</td>\n",
       "      <td>8</td>\n",
       "    </tr>\n",
       "    <tr>\n",
       "      <th>10</th>\n",
       "      <td></td>\n",
       "      <td>shitG</td>\n",
       "      <td>shitG</td>\n",
       "      <td>shitG</td>\n",
       "    </tr>\n",
       "    <tr>\n",
       "      <th>11</th>\n",
       "      <td>33</td>\n",
       "      <td>33</td>\n",
       "      <td>33</td>\n",
       "      <td>33</td>\n",
       "    </tr>\n",
       "  </tbody>\n",
       "</table>\n",
       "</div>"
      ],
      "text/plain": [
       "    damn  damn1  damn2  damn3\n",
       "0   date      1      1      1\n",
       "1         shitA  shitB  shitC\n",
       "2         shitD  shitE  shitF\n",
       "3         shitG  shitH  shitI\n",
       "4      2      2      2      2\n",
       "5      3      4      3      3\n",
       "6         shitG  shitH  shitI\n",
       "7         shitG  shitH  shitI\n",
       "8      5      3      2      3\n",
       "9      5      6      7      8\n",
       "10        shitG  shitG  shitG\n",
       "11    33     33     33     33"
      ]
     },
     "execution_count": 3,
     "metadata": {},
     "output_type": "execute_result"
    }
   ],
   "source": [
    "problematic0 = problematic0.applymap(str)\n",
    "problematic0"
   ]
  },
  {
   "cell_type": "code",
   "execution_count": 4,
   "metadata": {
    "ExecuteTime": {
     "end_time": "2019-08-14T03:30:43.332284Z",
     "start_time": "2019-08-14T03:30:43.307950Z"
    }
   },
   "outputs": [],
   "source": [
    "df_original = problematic0.copy()\n",
    "x_idx = []\n",
    "if isinstance(df_original, pd.DataFrame) & (not df_original.empty):        \n",
    "    for x in range(df_original.shape[0]):\n",
    "        boolean_row = []\n",
    "        for y in range(df_original.shape[1]):\n",
    "            if df_original.iloc[x, y] != '':\n",
    "                df_original.iloc[x, y] = re.sub(r'\\([^()]*\\)', '', df_original.iloc[x, y])\n",
    "                if re.findall('[\\d]', df_original.iloc[x, y]) == []:\n",
    "                    boolean_row.append(True)\n",
    "                else: boolean_row.append(False)\n",
    "        if np.array(boolean_row).all():\n",
    "            x_idx.append(x)"
   ]
  },
  {
   "cell_type": "code",
   "execution_count": 5,
   "metadata": {
    "ExecuteTime": {
     "end_time": "2019-08-14T03:30:43.361456Z",
     "start_time": "2019-08-14T03:30:43.334625Z"
    }
   },
   "outputs": [],
   "source": [
    "df_list = []\n",
    "x_idx_np = np.array(x_idx)\n",
    "mask = np.diff(x_idx_np) != 1\n",
    "mask2 = np.diff(x_idx_np) == 1\n",
    "grouper = [list(group) for k, group in groupby(mask2, lambda x: x == False) if not k]\n",
    "subtractor = np.array([len(x) for x in grouper])\n",
    "x_idx_np = np.append(x_idx_np[0], x_idx_np[1:][mask])\n",
    "x_idx_loop = np.append(x_idx_np[0], np.diff(x_idx_np) - 1 - subtractor)\n",
    "loop = len(x_idx_loop)\n",
    "for index in x_idx_loop:\n",
    "    df_split1 = df_original.iloc[:index]\n",
    "    df_split2 = df_original.iloc[index:]\n",
    "    columns_temp = df_split2.columns\n",
    "    df_split2.columns = [\"\" for x in columns_temp]\n",
    "    #reset col headers; if empty using the col headers of the parent df\n",
    "    df_split2 = set_col_headers(df_split2) \n",
    "    df_split2.columns = [columns_temp[k] if re.search('[\\w]',v)==None else v for k,v in enumerate(df_split2.columns)]\n",
    "    df_list.append(df_split1)\n",
    "    df_original = df_split2\n",
    "    loop -=1\n",
    "    if loop == 0:\n",
    "        df_list.append(df_split2)"
   ]
  },
  {
   "cell_type": "code",
   "execution_count": 6,
   "metadata": {
    "ExecuteTime": {
     "end_time": "2019-08-14T03:30:43.367837Z",
     "start_time": "2019-08-14T03:30:43.363419Z"
    }
   },
   "outputs": [
    {
     "data": {
      "text/plain": [
       "4"
      ]
     },
     "execution_count": 6,
     "metadata": {},
     "output_type": "execute_result"
    }
   ],
   "source": [
    "len(df_list)"
   ]
  },
  {
   "cell_type": "code",
   "execution_count": 7,
   "metadata": {
    "ExecuteTime": {
     "end_time": "2019-08-14T03:30:43.396900Z",
     "start_time": "2019-08-14T03:30:43.370525Z"
    }
   },
   "outputs": [
    {
     "data": {
      "text/html": [
       "<div>\n",
       "<style scoped>\n",
       "    .dataframe tbody tr th:only-of-type {\n",
       "        vertical-align: middle;\n",
       "    }\n",
       "\n",
       "    .dataframe tbody tr th {\n",
       "        vertical-align: top;\n",
       "    }\n",
       "\n",
       "    .dataframe thead th {\n",
       "        text-align: right;\n",
       "    }\n",
       "</style>\n",
       "<table border=\"1\" class=\"dataframe\">\n",
       "  <thead>\n",
       "    <tr style=\"text-align: right;\">\n",
       "      <th></th>\n",
       "      <th>damn</th>\n",
       "      <th>damn1</th>\n",
       "      <th>damn2</th>\n",
       "      <th>damn3</th>\n",
       "    </tr>\n",
       "  </thead>\n",
       "  <tbody>\n",
       "    <tr>\n",
       "      <th>0</th>\n",
       "      <td>date</td>\n",
       "      <td>1</td>\n",
       "      <td>1</td>\n",
       "      <td>1</td>\n",
       "    </tr>\n",
       "  </tbody>\n",
       "</table>\n",
       "</div>"
      ],
      "text/plain": [
       "   damn damn1 damn2 damn3\n",
       "0  date     1     1     1"
      ]
     },
     "execution_count": 7,
     "metadata": {},
     "output_type": "execute_result"
    },
    {
     "data": {
      "text/html": [
       "<div>\n",
       "<style scoped>\n",
       "    .dataframe tbody tr th:only-of-type {\n",
       "        vertical-align: middle;\n",
       "    }\n",
       "\n",
       "    .dataframe tbody tr th {\n",
       "        vertical-align: top;\n",
       "    }\n",
       "\n",
       "    .dataframe thead th {\n",
       "        text-align: right;\n",
       "    }\n",
       "</style>\n",
       "<table border=\"1\" class=\"dataframe\">\n",
       "  <thead>\n",
       "    <tr style=\"text-align: right;\">\n",
       "      <th></th>\n",
       "      <th>damn</th>\n",
       "      <th>shitA,shitD,shitG</th>\n",
       "      <th>shitB,shitE,shitH</th>\n",
       "      <th>shitC,shitF,shitI</th>\n",
       "    </tr>\n",
       "  </thead>\n",
       "  <tbody>\n",
       "    <tr>\n",
       "      <th>4</th>\n",
       "      <td>2</td>\n",
       "      <td>2</td>\n",
       "      <td>2</td>\n",
       "      <td>2</td>\n",
       "    </tr>\n",
       "    <tr>\n",
       "      <th>5</th>\n",
       "      <td>3</td>\n",
       "      <td>4</td>\n",
       "      <td>3</td>\n",
       "      <td>3</td>\n",
       "    </tr>\n",
       "  </tbody>\n",
       "</table>\n",
       "</div>"
      ],
      "text/plain": [
       "  damn shitA,shitD,shitG shitB,shitE,shitH shitC,shitF,shitI\n",
       "4    2                 2                 2                 2\n",
       "5    3                 4                 3                 3"
      ]
     },
     "execution_count": 7,
     "metadata": {},
     "output_type": "execute_result"
    },
    {
     "data": {
      "text/html": [
       "<div>\n",
       "<style scoped>\n",
       "    .dataframe tbody tr th:only-of-type {\n",
       "        vertical-align: middle;\n",
       "    }\n",
       "\n",
       "    .dataframe tbody tr th {\n",
       "        vertical-align: top;\n",
       "    }\n",
       "\n",
       "    .dataframe thead th {\n",
       "        text-align: right;\n",
       "    }\n",
       "</style>\n",
       "<table border=\"1\" class=\"dataframe\">\n",
       "  <thead>\n",
       "    <tr style=\"text-align: right;\">\n",
       "      <th></th>\n",
       "      <th>damn</th>\n",
       "      <th>shitG,shitG</th>\n",
       "      <th>shitH,shitH</th>\n",
       "      <th>shitI,shitI</th>\n",
       "    </tr>\n",
       "  </thead>\n",
       "  <tbody>\n",
       "    <tr>\n",
       "      <th>8</th>\n",
       "      <td>5</td>\n",
       "      <td>3</td>\n",
       "      <td>2</td>\n",
       "      <td>3</td>\n",
       "    </tr>\n",
       "    <tr>\n",
       "      <th>9</th>\n",
       "      <td>5</td>\n",
       "      <td>6</td>\n",
       "      <td>7</td>\n",
       "      <td>8</td>\n",
       "    </tr>\n",
       "  </tbody>\n",
       "</table>\n",
       "</div>"
      ],
      "text/plain": [
       "  damn shitG,shitG shitH,shitH shitI,shitI\n",
       "8    5           3           2           3\n",
       "9    5           6           7           8"
      ]
     },
     "execution_count": 7,
     "metadata": {},
     "output_type": "execute_result"
    },
    {
     "data": {
      "text/html": [
       "<div>\n",
       "<style scoped>\n",
       "    .dataframe tbody tr th:only-of-type {\n",
       "        vertical-align: middle;\n",
       "    }\n",
       "\n",
       "    .dataframe tbody tr th {\n",
       "        vertical-align: top;\n",
       "    }\n",
       "\n",
       "    .dataframe thead th {\n",
       "        text-align: right;\n",
       "    }\n",
       "</style>\n",
       "<table border=\"1\" class=\"dataframe\">\n",
       "  <thead>\n",
       "    <tr style=\"text-align: right;\">\n",
       "      <th></th>\n",
       "      <th>damn</th>\n",
       "      <th>shitG</th>\n",
       "      <th>shitG</th>\n",
       "      <th>shitG</th>\n",
       "    </tr>\n",
       "  </thead>\n",
       "  <tbody>\n",
       "    <tr>\n",
       "      <th>11</th>\n",
       "      <td>33</td>\n",
       "      <td>33</td>\n",
       "      <td>33</td>\n",
       "      <td>33</td>\n",
       "    </tr>\n",
       "  </tbody>\n",
       "</table>\n",
       "</div>"
      ],
      "text/plain": [
       "   damn shitG shitG shitG\n",
       "11   33    33    33    33"
      ]
     },
     "execution_count": 7,
     "metadata": {},
     "output_type": "execute_result"
    }
   ],
   "source": [
    "df_list[0]\n",
    "df_list[1]\n",
    "df_list[2]\n",
    "df_list[3]"
   ]
  }
 ],
 "metadata": {
  "hide_input": false,
  "kernelspec": {
   "display_name": "Python 3",
   "language": "python",
   "name": "python3"
  },
  "language_info": {
   "codemirror_mode": {
    "name": "ipython",
    "version": 3
   },
   "file_extension": ".py",
   "mimetype": "text/x-python",
   "name": "python",
   "nbconvert_exporter": "python",
   "pygments_lexer": "ipython3",
   "version": "3.7.3"
  },
  "toc": {
   "base_numbering": 1,
   "nav_menu": {},
   "number_sections": true,
   "sideBar": true,
   "skip_h1_title": false,
   "title_cell": "Table of Contents",
   "title_sidebar": "Contents",
   "toc_cell": false,
   "toc_position": {},
   "toc_section_display": true,
   "toc_window_display": false
  }
 },
 "nbformat": 4,
 "nbformat_minor": 2
}
